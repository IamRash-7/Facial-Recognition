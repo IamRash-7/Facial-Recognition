{
 "cells": [
  {
   "cell_type": "code",
   "execution_count": null,
   "id": "53284a1c",
   "metadata": {
    "scrolled": true
   },
   "outputs": [
    {
     "name": "stdout",
     "output_type": "stream",
     "text": [
      "Collecting tensorflow\n",
      "  Downloading tensorflow-2.15.0-cp310-cp310-macosx_12_0_arm64.whl.metadata (3.6 kB)\n",
      "Requirement already satisfied: opencv-python in ./myenv/lib/python3.10/site-packages (4.8.1.78)\n",
      "Collecting matplotlib\n",
      "  Using cached matplotlib-3.8.2-cp310-cp310-macosx_11_0_arm64.whl.metadata (5.8 kB)\n",
      "Collecting tensorflow-macos==2.15.0 (from tensorflow)\n",
      "  Downloading tensorflow_macos-2.15.0-cp310-cp310-macosx_12_0_arm64.whl.metadata (4.2 kB)\n",
      "Collecting absl-py>=1.0.0 (from tensorflow-macos==2.15.0->tensorflow)\n",
      "  Downloading absl_py-2.0.0-py3-none-any.whl.metadata (2.3 kB)\n",
      "Collecting astunparse>=1.6.0 (from tensorflow-macos==2.15.0->tensorflow)\n",
      "  Downloading astunparse-1.6.3-py2.py3-none-any.whl (12 kB)\n",
      "Collecting flatbuffers>=23.5.26 (from tensorflow-macos==2.15.0->tensorflow)\n",
      "  Downloading flatbuffers-23.5.26-py2.py3-none-any.whl.metadata (850 bytes)\n",
      "Collecting gast!=0.5.0,!=0.5.1,!=0.5.2,>=0.2.1 (from tensorflow-macos==2.15.0->tensorflow)\n",
      "  Downloading gast-0.5.4-py3-none-any.whl (19 kB)\n",
      "Collecting google-pasta>=0.1.1 (from tensorflow-macos==2.15.0->tensorflow)\n",
      "  Downloading google_pasta-0.2.0-py3-none-any.whl (57 kB)\n",
      "\u001b[2K     \u001b[90m━━━━━━━━━━━━━━━━━━━━━━━━━━━━━━━━━━━━━━━\u001b[0m \u001b[32m57.5/57.5 kB\u001b[0m \u001b[31m791.5 kB/s\u001b[0m eta \u001b[36m0:00:00\u001b[0m \u001b[36m0:00:01\u001b[0m\n",
      "\u001b[?25hCollecting h5py>=2.9.0 (from tensorflow-macos==2.15.0->tensorflow)\n",
      "  Downloading h5py-3.10.0-cp310-cp310-macosx_11_0_arm64.whl.metadata (2.5 kB)\n",
      "Collecting libclang>=13.0.0 (from tensorflow-macos==2.15.0->tensorflow)\n",
      "  Downloading libclang-16.0.6-py2.py3-none-macosx_11_0_arm64.whl.metadata (5.2 kB)\n",
      "Collecting ml-dtypes~=0.2.0 (from tensorflow-macos==2.15.0->tensorflow)\n",
      "  Downloading ml_dtypes-0.2.0-cp310-cp310-macosx_10_9_universal2.whl.metadata (20 kB)\n",
      "Requirement already satisfied: numpy<2.0.0,>=1.23.5 in ./myenv/lib/python3.10/site-packages (from tensorflow-macos==2.15.0->tensorflow) (1.26.2)\n",
      "Collecting opt-einsum>=2.3.2 (from tensorflow-macos==2.15.0->tensorflow)\n",
      "  Downloading opt_einsum-3.3.0-py3-none-any.whl (65 kB)\n",
      "\u001b[2K     \u001b[90m━━━━━━━━━━━━━━━━━━━━━━━━━━━━━━━━━━━━━━━━\u001b[0m \u001b[32m65.5/65.5 kB\u001b[0m \u001b[31m1.9 MB/s\u001b[0m eta \u001b[36m0:00:00\u001b[0m\n",
      "\u001b[?25hCollecting packaging (from tensorflow-macos==2.15.0->tensorflow)\n",
      "  Downloading packaging-23.2-py3-none-any.whl.metadata (3.2 kB)\n",
      "Collecting protobuf!=4.21.0,!=4.21.1,!=4.21.2,!=4.21.3,!=4.21.4,!=4.21.5,<5.0.0dev,>=3.20.3 (from tensorflow-macos==2.15.0->tensorflow)\n",
      "  Downloading protobuf-4.25.1-cp37-abi3-macosx_10_9_universal2.whl.metadata (541 bytes)\n",
      "Requirement already satisfied: setuptools in ./myenv/lib/python3.10/site-packages (from tensorflow-macos==2.15.0->tensorflow) (65.5.0)\n",
      "Collecting six>=1.12.0 (from tensorflow-macos==2.15.0->tensorflow)\n",
      "  Downloading six-1.16.0-py2.py3-none-any.whl (11 kB)\n",
      "Collecting termcolor>=1.1.0 (from tensorflow-macos==2.15.0->tensorflow)\n",
      "  Downloading termcolor-2.4.0-py3-none-any.whl.metadata (6.1 kB)\n",
      "Collecting typing-extensions>=3.6.6 (from tensorflow-macos==2.15.0->tensorflow)\n",
      "  Downloading typing_extensions-4.8.0-py3-none-any.whl.metadata (3.0 kB)\n",
      "Collecting wrapt<1.15,>=1.11.0 (from tensorflow-macos==2.15.0->tensorflow)\n",
      "  Downloading wrapt-1.14.1-cp310-cp310-macosx_11_0_arm64.whl (35 kB)\n",
      "Collecting tensorflow-io-gcs-filesystem>=0.23.1 (from tensorflow-macos==2.15.0->tensorflow)\n",
      "  Downloading tensorflow_io_gcs_filesystem-0.34.0-cp310-cp310-macosx_12_0_arm64.whl.metadata (14 kB)\n",
      "Collecting grpcio<2.0,>=1.24.3 (from tensorflow-macos==2.15.0->tensorflow)\n",
      "  Using cached grpcio-1.59.3-cp310-cp310-macosx_12_0_universal2.whl.metadata (4.0 kB)\n",
      "Collecting tensorboard<2.16,>=2.15 (from tensorflow-macos==2.15.0->tensorflow)\n",
      "  Downloading tensorboard-2.15.1-py3-none-any.whl.metadata (1.7 kB)\n",
      "Collecting tensorflow-estimator<2.16,>=2.15.0 (from tensorflow-macos==2.15.0->tensorflow)\n",
      "  Downloading tensorflow_estimator-2.15.0-py2.py3-none-any.whl.metadata (1.3 kB)\n",
      "Collecting keras<2.16,>=2.15.0 (from tensorflow-macos==2.15.0->tensorflow)\n",
      "  Downloading keras-2.15.0-py3-none-any.whl.metadata (2.4 kB)\n",
      "Collecting contourpy>=1.0.1 (from matplotlib)\n",
      "  Downloading contourpy-1.2.0-cp310-cp310-macosx_11_0_arm64.whl.metadata (5.8 kB)\n",
      "Collecting cycler>=0.10 (from matplotlib)\n",
      "  Downloading cycler-0.12.1-py3-none-any.whl.metadata (3.8 kB)\n",
      "Collecting fonttools>=4.22.0 (from matplotlib)\n",
      "  Downloading fonttools-4.45.1-cp310-cp310-macosx_10_9_universal2.whl.metadata (155 kB)\n",
      "\u001b[2K     \u001b[90m━━━━━━━━━━━━━━━━━━━━━━━━━━━━━━━━━━━━━━━\u001b[0m \u001b[32m155.2/155.2 kB\u001b[0m \u001b[31m2.3 MB/s\u001b[0m eta \u001b[36m0:00:00\u001b[0ma \u001b[36m0:00:01\u001b[0m\n",
      "\u001b[?25hCollecting kiwisolver>=1.3.1 (from matplotlib)\n",
      "  Downloading kiwisolver-1.4.5-cp310-cp310-macosx_11_0_arm64.whl.metadata (6.4 kB)\n",
      "Collecting pillow>=8 (from matplotlib)\n",
      "  Downloading Pillow-10.1.0-cp310-cp310-macosx_11_0_arm64.whl.metadata (9.5 kB)\n",
      "Collecting pyparsing>=2.3.1 (from matplotlib)\n",
      "  Downloading pyparsing-3.1.1-py3-none-any.whl.metadata (5.1 kB)\n",
      "Collecting python-dateutil>=2.7 (from matplotlib)\n",
      "  Downloading python_dateutil-2.8.2-py2.py3-none-any.whl (247 kB)\n",
      "\u001b[2K     \u001b[90m━━━━━━━━━━━━━━━━━━━━━━━━━━━━━━━━━━━━━━━\u001b[0m \u001b[32m247.7/247.7 kB\u001b[0m \u001b[31m2.2 MB/s\u001b[0m eta \u001b[36m0:00:00\u001b[0ma \u001b[36m0:00:01\u001b[0m\n",
      "\u001b[?25hCollecting wheel<1.0,>=0.23.0 (from astunparse>=1.6.0->tensorflow-macos==2.15.0->tensorflow)\n",
      "  Downloading wheel-0.42.0-py3-none-any.whl.metadata (2.2 kB)\n",
      "Collecting google-auth<3,>=1.6.3 (from tensorboard<2.16,>=2.15->tensorflow-macos==2.15.0->tensorflow)\n",
      "  Downloading google_auth-2.24.0-py2.py3-none-any.whl.metadata (4.7 kB)\n",
      "Collecting google-auth-oauthlib<2,>=0.5 (from tensorboard<2.16,>=2.15->tensorflow-macos==2.15.0->tensorflow)\n",
      "  Downloading google_auth_oauthlib-1.1.0-py2.py3-none-any.whl.metadata (2.7 kB)\n",
      "Collecting markdown>=2.6.8 (from tensorboard<2.16,>=2.15->tensorflow-macos==2.15.0->tensorflow)\n",
      "  Downloading Markdown-3.5.1-py3-none-any.whl.metadata (7.1 kB)\n",
      "Collecting protobuf!=4.21.0,!=4.21.1,!=4.21.2,!=4.21.3,!=4.21.4,!=4.21.5,<5.0.0dev,>=3.20.3 (from tensorflow-macos==2.15.0->tensorflow)\n",
      "  Downloading protobuf-4.23.4-cp37-abi3-macosx_10_9_universal2.whl.metadata (540 bytes)\n",
      "Collecting requests<3,>=2.21.0 (from tensorboard<2.16,>=2.15->tensorflow-macos==2.15.0->tensorflow)\n",
      "  Downloading requests-2.31.0-py3-none-any.whl.metadata (4.6 kB)\n",
      "Collecting tensorboard-data-server<0.8.0,>=0.7.0 (from tensorboard<2.16,>=2.15->tensorflow-macos==2.15.0->tensorflow)\n",
      "  Downloading tensorboard_data_server-0.7.2-py3-none-any.whl.metadata (1.1 kB)\n",
      "Collecting werkzeug>=1.0.1 (from tensorboard<2.16,>=2.15->tensorflow-macos==2.15.0->tensorflow)\n",
      "  Downloading werkzeug-3.0.1-py3-none-any.whl.metadata (4.1 kB)\n",
      "Collecting cachetools<6.0,>=2.0.0 (from google-auth<3,>=1.6.3->tensorboard<2.16,>=2.15->tensorflow-macos==2.15.0->tensorflow)\n",
      "  Downloading cachetools-5.3.2-py3-none-any.whl.metadata (5.2 kB)\n",
      "Collecting pyasn1-modules>=0.2.1 (from google-auth<3,>=1.6.3->tensorboard<2.16,>=2.15->tensorflow-macos==2.15.0->tensorflow)\n",
      "  Downloading pyasn1_modules-0.3.0-py2.py3-none-any.whl (181 kB)\n",
      "\u001b[2K     \u001b[90m━━━━━━━━━━━━━━━━━━━━━━━━━━━━━━━━━━━━━━━\u001b[0m \u001b[32m181.3/181.3 kB\u001b[0m \u001b[31m2.2 MB/s\u001b[0m eta \u001b[36m0:00:00\u001b[0ma \u001b[36m0:00:01\u001b[0m\n",
      "\u001b[?25hCollecting rsa<5,>=3.1.4 (from google-auth<3,>=1.6.3->tensorboard<2.16,>=2.15->tensorflow-macos==2.15.0->tensorflow)\n",
      "  Downloading rsa-4.9-py3-none-any.whl (34 kB)\n",
      "Collecting requests-oauthlib>=0.7.0 (from google-auth-oauthlib<2,>=0.5->tensorboard<2.16,>=2.15->tensorflow-macos==2.15.0->tensorflow)\n",
      "  Downloading requests_oauthlib-1.3.1-py2.py3-none-any.whl (23 kB)\n",
      "Collecting charset-normalizer<4,>=2 (from requests<3,>=2.21.0->tensorboard<2.16,>=2.15->tensorflow-macos==2.15.0->tensorflow)\n",
      "  Downloading charset_normalizer-3.3.2-cp310-cp310-macosx_11_0_arm64.whl.metadata (33 kB)\n",
      "Collecting idna<4,>=2.5 (from requests<3,>=2.21.0->tensorboard<2.16,>=2.15->tensorflow-macos==2.15.0->tensorflow)\n",
      "  Downloading idna-3.6-py3-none-any.whl.metadata (9.9 kB)\n",
      "Collecting urllib3<3,>=1.21.1 (from requests<3,>=2.21.0->tensorboard<2.16,>=2.15->tensorflow-macos==2.15.0->tensorflow)\n",
      "  Downloading urllib3-2.1.0-py3-none-any.whl.metadata (6.4 kB)\n",
      "Collecting certifi>=2017.4.17 (from requests<3,>=2.21.0->tensorboard<2.16,>=2.15->tensorflow-macos==2.15.0->tensorflow)\n",
      "  Downloading certifi-2023.11.17-py3-none-any.whl.metadata (2.2 kB)\n"
     ]
    },
    {
     "name": "stdout",
     "output_type": "stream",
     "text": [
      "Collecting MarkupSafe>=2.1.1 (from werkzeug>=1.0.1->tensorboard<2.16,>=2.15->tensorflow-macos==2.15.0->tensorflow)\n",
      "  Downloading MarkupSafe-2.1.3-cp310-cp310-macosx_10_9_universal2.whl.metadata (3.0 kB)\n",
      "Collecting pyasn1<0.6.0,>=0.4.6 (from pyasn1-modules>=0.2.1->google-auth<3,>=1.6.3->tensorboard<2.16,>=2.15->tensorflow-macos==2.15.0->tensorflow)\n",
      "  Downloading pyasn1-0.5.1-py2.py3-none-any.whl.metadata (8.6 kB)\n",
      "Collecting oauthlib>=3.0.0 (from requests-oauthlib>=0.7.0->google-auth-oauthlib<2,>=0.5->tensorboard<2.16,>=2.15->tensorflow-macos==2.15.0->tensorflow)\n",
      "  Downloading oauthlib-3.2.2-py3-none-any.whl (151 kB)\n",
      "\u001b[2K     \u001b[90m━━━━━━━━━━━━━━━━━━━━━━━━━━━━━━━━━━━━━━━\u001b[0m \u001b[32m151.7/151.7 kB\u001b[0m \u001b[31m2.3 MB/s\u001b[0m eta \u001b[36m0:00:00\u001b[0ma \u001b[36m0:00:01\u001b[0m\n",
      "\u001b[?25hDownloading tensorflow-2.15.0-cp310-cp310-macosx_12_0_arm64.whl (2.1 kB)\n",
      "Downloading tensorflow_macos-2.15.0-cp310-cp310-macosx_12_0_arm64.whl (208.8 MB)\n",
      "\u001b[2K   \u001b[91m━━━━━━━━━━━━━━━━━━━━━━━━━━━━━\u001b[0m\u001b[91m╸\u001b[0m\u001b[90m━━━━━━━━━━\u001b[0m \u001b[32m156.0/208.8 MB\u001b[0m \u001b[31m1.5 MB/s\u001b[0m eta \u001b[36m0:00:35\u001b[0m"
     ]
    }
   ],
   "source": [
    "!pip install tensorflow opencv-python matplotlib"
   ]
  },
  {
   "cell_type": "code",
   "execution_count": 1,
   "id": "c15d1168",
   "metadata": {},
   "outputs": [],
   "source": [
    "import cv2\n",
    "import os\n",
    "import random\n",
    "import numpy as np\n",
    "from matplotlib import pyplot as plt"
   ]
  },
  {
   "cell_type": "code",
   "execution_count": 2,
   "id": "cba8b457",
   "metadata": {},
   "outputs": [],
   "source": [
    "from tensorflow.keras.models import Model\n",
    "from tensorflow.keras.layers import Layer, Conv2D, Dense, MaxPooling2D, Input, Flatten\n",
    "import tensorflow as tf"
   ]
  },
  {
   "cell_type": "code",
   "execution_count": 3,
   "id": "de327be1",
   "metadata": {},
   "outputs": [],
   "source": [
    "# GPU Limit"
   ]
  },
  {
   "cell_type": "code",
   "execution_count": 4,
   "id": "2d371fce",
   "metadata": {},
   "outputs": [],
   "source": [
    "gpus = tf.config.experimental.list_physical_devices('GPU')\n",
    "for gpu in gpus: \n",
    "    tf.config.experimental.set_memory_growth(gpu, True)"
   ]
  },
  {
   "cell_type": "code",
   "execution_count": 5,
   "id": "6b74a90d",
   "metadata": {},
   "outputs": [
    {
     "data": {
      "text/plain": [
       "[PhysicalDevice(name='/physical_device:GPU:0', device_type='GPU')]"
      ]
     },
     "execution_count": 5,
     "metadata": {},
     "output_type": "execute_result"
    }
   ],
   "source": [
    "gpus"
   ]
  },
  {
   "cell_type": "markdown",
   "id": "fc5e8a95",
   "metadata": {},
   "source": [
    "# SKIP"
   ]
  },
  {
   "cell_type": "code",
   "execution_count": 6,
   "id": "e529c443",
   "metadata": {},
   "outputs": [],
   "source": [
    "POS_PATH = os.path.join('data', 'positive')\n",
    "NEG_PATH = os.path.join('data', 'negative')\n",
    "ANC_PATH = os.path.join('data', 'anchor')"
   ]
  },
  {
   "cell_type": "code",
   "execution_count": 101,
   "id": "3fe7d0c7",
   "metadata": {},
   "outputs": [
    {
     "ename": "FileExistsError",
     "evalue": "[Errno 17] File exists: 'data/positive'",
     "output_type": "error",
     "traceback": [
      "\u001b[0;31m---------------------------------------------------------------------------\u001b[0m",
      "\u001b[0;31mFileExistsError\u001b[0m                           Traceback (most recent call last)",
      "Cell \u001b[0;32mIn[101], line 1\u001b[0m\n\u001b[0;32m----> 1\u001b[0m \u001b[43mos\u001b[49m\u001b[38;5;241;43m.\u001b[39;49m\u001b[43mmakedirs\u001b[49m\u001b[43m(\u001b[49m\u001b[43mPOS_PATH\u001b[49m\u001b[43m)\u001b[49m\n\u001b[1;32m      2\u001b[0m os\u001b[38;5;241m.\u001b[39mmakedirs(NEG_PATH)\n\u001b[1;32m      3\u001b[0m os\u001b[38;5;241m.\u001b[39mmakedirs(ANC_PATH)\n",
      "File \u001b[0;32m~/anaconda3/lib/python3.10/os.py:225\u001b[0m, in \u001b[0;36mmakedirs\u001b[0;34m(name, mode, exist_ok)\u001b[0m\n\u001b[1;32m    223\u001b[0m         \u001b[38;5;28;01mreturn\u001b[39;00m\n\u001b[1;32m    224\u001b[0m \u001b[38;5;28;01mtry\u001b[39;00m:\n\u001b[0;32m--> 225\u001b[0m     \u001b[43mmkdir\u001b[49m\u001b[43m(\u001b[49m\u001b[43mname\u001b[49m\u001b[43m,\u001b[49m\u001b[43m \u001b[49m\u001b[43mmode\u001b[49m\u001b[43m)\u001b[49m\n\u001b[1;32m    226\u001b[0m \u001b[38;5;28;01mexcept\u001b[39;00m \u001b[38;5;167;01mOSError\u001b[39;00m:\n\u001b[1;32m    227\u001b[0m     \u001b[38;5;66;03m# Cannot rely on checking for EEXIST, since the operating system\u001b[39;00m\n\u001b[1;32m    228\u001b[0m     \u001b[38;5;66;03m# could give priority to other errors like EACCES or EROFS\u001b[39;00m\n\u001b[1;32m    229\u001b[0m     \u001b[38;5;28;01mif\u001b[39;00m \u001b[38;5;129;01mnot\u001b[39;00m exist_ok \u001b[38;5;129;01mor\u001b[39;00m \u001b[38;5;129;01mnot\u001b[39;00m path\u001b[38;5;241m.\u001b[39misdir(name):\n",
      "\u001b[0;31mFileExistsError\u001b[0m: [Errno 17] File exists: 'data/positive'"
     ]
    }
   ],
   "source": [
    "os.makedirs(POS_PATH)\n",
    "os.makedirs(NEG_PATH)\n",
    "os.makedirs(ANC_PATH)"
   ]
  },
  {
   "cell_type": "code",
   "execution_count": 18,
   "id": "0a9c2b14",
   "metadata": {},
   "outputs": [
    {
     "data": {
      "text/plain": [
       "['German_Khan',\n",
       " 'Stefano_Gabbana',\n",
       " 'Dragan_Covic',\n",
       " 'Jeff_Hornacek',\n",
       " 'Sureyya_Ayhan',\n",
       " 'Deb_Santos',\n",
       " 'Bob_Newhart',\n",
       " 'Wang_Hailan',\n",
       " 'Paul_McNulty',\n",
       " 'Jimmy_Iovine',\n",
       " 'Claudia_Pechstein',\n",
       " 'Ranil_Wickremasinghe',\n",
       " 'Ben_Chandler',\n",
       " 'Mark_Komara',\n",
       " 'Rand_Beers',\n",
       " 'Joanne_Woodward',\n",
       " 'John_Bond',\n",
       " 'Reginald_Hudlin',\n",
       " 'Lee_Baca',\n",
       " 'Mary-Kate_Olsen',\n",
       " 'Emily_Stevens',\n",
       " 'Xiang_Huaicheng',\n",
       " 'Phil_Mickelson',\n",
       " 'Gerry_Kelly',\n",
       " 'Salma_Hayek',\n",
       " 'Jim_Edmonds',\n",
       " 'Martina_McBride',\n",
       " 'Anthony_Pico',\n",
       " 'Jose_Theodore',\n",
       " 'Heidi_Fleiss',\n",
       " 'Mark_Richt',\n",
       " 'Mike_Smith',\n",
       " 'Paul_ONeill',\n",
       " 'Horace_Newcomb',\n",
       " 'Mohammad_Fares',\n",
       " 'JK_Rowling',\n",
       " 'Shinya_Taniguchi',\n",
       " 'Tony_Curtis',\n",
       " 'Laurie_Pirtle',\n",
       " 'Angel_Maza',\n",
       " 'Ray_Sherman',\n",
       " 'Nancy_Powell',\n",
       " 'Kathryn_Tucker',\n",
       " 'Gro_Harlem_Brundtland',\n",
       " 'Jacqueline_Marris',\n",
       " 'Mikhail_Gorbachev',\n",
       " 'Takuma_Sato',\n",
       " 'Ray_Lewis',\n",
       " 'Hank_Aaron',\n",
       " 'Chip_Knight',\n",
       " 'Tracee_Treadwell',\n",
       " 'Ronald_Young_Jr',\n",
       " 'Gustavo_Cisneros',\n",
       " 'Jack_Osbourne',\n",
       " 'Isidro_Pastor',\n",
       " 'Mike_Duke',\n",
       " 'Natalie_Williams',\n",
       " 'Angela_Lansbury',\n",
       " 'Cathy_Freeman',\n",
       " 'Milt_Palacio',\n",
       " 'Wilbert_Elki_Meza_Majino',\n",
       " 'Ekke_Hard_Forberg',\n",
       " 'Jack_Welch',\n",
       " 'Nizar_Trabelsi',\n",
       " 'Gonzalo_Barrientos',\n",
       " 'Jason_Biggs',\n",
       " 'Lisa_Leslie',\n",
       " 'Tayyeb_Abdel_Rahim',\n",
       " 'Tyron_Garner',\n",
       " 'John_Sidgmore',\n",
       " 'Alexander_Payne',\n",
       " 'Brad_Brownell',\n",
       " 'John_Duprey',\n",
       " 'Ainsworth_Dyer',\n",
       " 'Christine_Ebersole',\n",
       " 'Amer_al-Saadi',\n",
       " 'Alison_Lohman',\n",
       " 'Duane_Lee_Chapman',\n",
       " 'Andre_Smith',\n",
       " 'Iban_Mayo',\n",
       " 'Jeong_Se-hyun',\n",
       " 'Charles_Rogers',\n",
       " 'Eric_Rosser',\n",
       " 'Ziwang_Xu',\n",
       " 'Larry_Pleau',\n",
       " 'Bill_Byrne',\n",
       " 'Peter_Gabriel',\n",
       " 'Paul_LeClerc',\n",
       " 'Maria_Bello',\n",
       " 'Shawn_Kemp',\n",
       " 'Liza_Minnelli',\n",
       " 'Toby_Keith',\n",
       " 'Horace_Donovan_Reid',\n",
       " 'David_Wells',\n",
       " 'Jose_Alencar',\n",
       " 'Raul_Gonzalez',\n",
       " 'Alex_Popov',\n",
       " 'Anne_Donovan',\n",
       " 'Vin_Diesel',\n",
       " 'Stuart_Whitman',\n",
       " 'Jesse_Jackson',\n",
       " 'Valorie_Brabazon',\n",
       " 'Rob_Niedermayer',\n",
       " 'Lynne_Cheney',\n",
       " 'Minnie_Mendoza',\n",
       " 'Mark_Rosenbaum',\n",
       " 'Stephane_Rousseau',\n",
       " 'Rita_Wilson',\n",
       " 'Terence_Newman',\n",
       " 'Joseph_Biden',\n",
       " 'Tommy_Tubberville',\n",
       " 'Meles_Zenawi',\n",
       " 'Natasha_Henstridge',\n",
       " 'Trevor_McDonald',\n",
       " 'Pat_Burns',\n",
       " 'Caroline_Link',\n",
       " 'Clay_Campbell',\n",
       " 'Holly_Hunter',\n",
       " 'Sophia_Loren',\n",
       " 'Nicolas_Massu',\n",
       " 'Kaisser_Bazan',\n",
       " 'Bryan_Murray',\n",
       " 'Francois_Ozon',\n",
       " 'Mathias_Reichhold',\n",
       " 'Whoopi_Goldberg',\n",
       " 'Bill_Cartwright',\n",
       " 'Victor_Garber',\n",
       " 'Jeane_Kirkpatrick',\n",
       " 'Sue_Grafton',\n",
       " 'Manuel_Jesus',\n",
       " 'Giovanny_Cordoba',\n",
       " 'James_Sensenbrenner',\n",
       " 'Jennie_Finch',\n",
       " 'David_Westerfield',\n",
       " 'Costas_Simitis',\n",
       " 'Carlos_Iturgaitz',\n",
       " 'Mark_Shapiro',\n",
       " 'George_Lopez',\n",
       " 'Taylor_Twellman',\n",
       " 'Peter_Hartz',\n",
       " 'Gianna_Angelopoulos-Daskalaki',\n",
       " 'Beth_Jones',\n",
       " 'Brock_Berlin',\n",
       " 'James_McPherson',\n",
       " 'Geoff_Hoon',\n",
       " 'Elizabeth_Hurley',\n",
       " 'Hipolito_Mejia',\n",
       " 'Bart_Hendricks',\n",
       " 'David_Brown',\n",
       " 'Craig_Burley',\n",
       " 'Hermogenes_Ebdane_Jr',\n",
       " 'Joey_Harrington',\n",
       " 'Wolfgang_Schwarz',\n",
       " 'Saoud_Al_Faisal',\n",
       " 'Sebastian_Saja',\n",
       " 'Rick_Wagoner',\n",
       " 'Don_Henley',\n",
       " 'John_Baldacci',\n",
       " 'Dustin_Brown',\n",
       " 'Dominic_Monaghan',\n",
       " 'Chris_Byrd',\n",
       " 'Niall_Connolly',\n",
       " 'Richard_Palmer',\n",
       " 'Fazal-ur-Rehman',\n",
       " 'Boris_Jordan',\n",
       " 'Charlotte_Rampling',\n",
       " 'Hutomo_Mandala_Putra',\n",
       " 'Lars_Burgsmuller',\n",
       " 'Win_Aung',\n",
       " 'Billy_Bob_Thornton',\n",
       " 'Brett_Perry',\n",
       " 'Linda_Lingle',\n",
       " 'Robert_Ehrlich',\n",
       " 'Glenn_Rivers',\n",
       " 'David_Howard',\n",
       " 'Ian_Wilmut',\n",
       " 'Queen_Elizabeth_II',\n",
       " 'Ingrid_Betancourt',\n",
       " 'Grady_Irvin_Jr',\n",
       " 'Peter_Care',\n",
       " 'Prince_Edward',\n",
       " 'Jennifer_Aniston',\n",
       " 'Eric_Schacht',\n",
       " 'Steve_Stirling',\n",
       " 'Alberto_Acosta',\n",
       " 'Jim_Zorn',\n",
       " 'Billy_Tibbets',\n",
       " 'Justin_Leonard',\n",
       " 'Steve_Alford',\n",
       " 'Osmond_Smith',\n",
       " 'Miranda_Gaddis',\n",
       " 'Geovani_Lapentti',\n",
       " 'Alma_Powell',\n",
       " 'Jimmy_Lee',\n",
       " 'Shobha_De',\n",
       " 'Anil_Ramsook',\n",
       " 'Peter_Mullan',\n",
       " 'Herman_Moore',\n",
       " 'Mark_Martin',\n",
       " 'Din_Samsudin',\n",
       " 'Jason_Statham',\n",
       " 'Mike_Bair',\n",
       " 'Yana_Klochkova',\n",
       " 'Doug_Racine',\n",
       " 'Chan_Ho_Park',\n",
       " 'Elena_Likhovtseva',\n",
       " 'Paul_Ebert',\n",
       " 'Anita_DeFrantz',\n",
       " 'Lee_Nam-shin',\n",
       " 'Crispin_Glover',\n",
       " 'Kevin_Marshall',\n",
       " 'Sven_Ottke',\n",
       " 'Raf_Vallone',\n",
       " 'Nick_Reilly',\n",
       " 'Bob_Huggins',\n",
       " 'David_Zeplowitz',\n",
       " 'Tayshaun_Prince',\n",
       " 'Emmanuelle_Jagodsinski',\n",
       " 'Lyle_Vanclief',\n",
       " 'Paula_Locke',\n",
       " 'James_Mathis',\n",
       " 'Lou_Piniella',\n",
       " 'Soenarno',\n",
       " 'Tara_Reid',\n",
       " 'Christian_Von_Wernich',\n",
       " 'Jacques_Rogge',\n",
       " 'Nawabzada_Nasrullah_Khan',\n",
       " 'Catherine_Donkers',\n",
       " 'Agnelo_Queiroz',\n",
       " 'Henry_Hilow',\n",
       " 'Eric_Hinske',\n",
       " 'Chris_Cornell',\n",
       " 'Bonnie_Fuller',\n",
       " 'Matt_Morris',\n",
       " 'Harbhajan_Singh',\n",
       " 'Kim_Dong-hwa',\n",
       " 'Tim_Matheson',\n",
       " 'Dick_Smothers',\n",
       " 'Jia_Qinglin',\n",
       " 'Gerald_Calabrese',\n",
       " 'Rowan_Williams',\n",
       " 'Peter_Goldmark',\n",
       " 'Brian_Van_Dusen',\n",
       " 'Osama_bin_Laden',\n",
       " 'Stanley_McChrystal',\n",
       " 'Carlos_Ghosn',\n",
       " 'Jean_Todt',\n",
       " 'Wally_Szczerbiak',\n",
       " 'Zara_Akhmadova',\n",
       " 'Donald_Keck',\n",
       " 'Andy_Roddick',\n",
       " 'John_Paul_II',\n",
       " 'Paul_Tracy',\n",
       " 'Ismail_Khan',\n",
       " 'Svetislav_Pesic',\n",
       " 'Sven_Goran_Eriksson',\n",
       " 'Aline_Chretien',\n",
       " 'Jeffery_Hendren',\n",
       " 'Ian_Huntley',\n",
       " 'Andrew_Luster',\n",
       " 'Emilio_Azcarraga_Jean',\n",
       " 'Wilbert_Foy',\n",
       " 'Pham_Thi_Mai_Phuong',\n",
       " 'William_McDonough',\n",
       " 'Linda_Franklin',\n",
       " 'Liane_Janda',\n",
       " 'Jana_Pittman',\n",
       " 'Leuris_Pupo',\n",
       " 'Martin_Sheen',\n",
       " 'Lisa_Girman',\n",
       " 'Brian_Clemens',\n",
       " 'Larry_Donald',\n",
       " 'Colleen_Ryan',\n",
       " 'Max_Baucus',\n",
       " 'Bill_Sizemore',\n",
       " 'Sandra_Day_OConner',\n",
       " 'Mirela_Manjani',\n",
       " 'Estella_Warren',\n",
       " 'Zoran_Djindjic',\n",
       " 'Nate_Hybl',\n",
       " 'Ed_Case',\n",
       " 'Stephen_Funk',\n",
       " 'John_McEnroe',\n",
       " 'Walter_Mondale',\n",
       " 'Diana_Krall',\n",
       " 'Heather_Willson',\n",
       " 'Felipe_De_Borbon',\n",
       " 'Carolina_Moraes',\n",
       " 'Ali_Mohammed_Maher',\n",
       " 'Rick_Husband',\n",
       " 'Stephanie_Zimbalist',\n",
       " 'Shanna_Zolman',\n",
       " 'Isaiah_Washington',\n",
       " 'Edgar_Savisaar',\n",
       " 'Dave_Tucker',\n",
       " 'Brandon_Larson',\n",
       " 'Phoenix_Chang',\n",
       " 'Penelope_Ann_Miller',\n",
       " 'Natalie_Juniardi',\n",
       " 'Ted_Maher',\n",
       " 'Noor_Mohammed',\n",
       " 'Walt_Harris',\n",
       " 'Olivera_Labus',\n",
       " 'Stephen_Covey',\n",
       " 'Woodrow_Stanley',\n",
       " 'Yuvraj_Singh',\n",
       " 'Bobby_Bowden',\n",
       " 'Hussein_Malik',\n",
       " 'Tom_Hanks',\n",
       " 'Gary_Gitnick',\n",
       " 'Mike_Richter',\n",
       " 'Luke_Walton',\n",
       " 'Denys_Arcand',\n",
       " 'Bill_Butler',\n",
       " 'Michael_Goldrich',\n",
       " 'Yekaterina_Guseva',\n",
       " 'Darren_Clarke',\n",
       " 'Intisar_Ajouri',\n",
       " 'Cristiano_da_Matta',\n",
       " 'Hugh_Carey',\n",
       " 'Danny_Glover',\n",
       " 'Peter_Hunt',\n",
       " 'Steven_Feldman',\n",
       " 'Dinah_Turner',\n",
       " 'Rosny_Desroches',\n",
       " 'Cosmo_Iacavazzi',\n",
       " 'Daniel_Day-Lewis',\n",
       " 'Robert_Wiener',\n",
       " 'Derrick_Battie',\n",
       " 'Candice_Beatty',\n",
       " 'Gerald_Riley',\n",
       " 'Julie_Andrews',\n",
       " 'Jean-Marc_de_La_Sabliere',\n",
       " 'Zhang_Ziyi',\n",
       " 'Kurt_Busch',\n",
       " 'Roberto_Lavagna',\n",
       " 'Dick_Cheney',\n",
       " 'Hamza_Atiya_Muhsen',\n",
       " 'David_Hilt',\n",
       " 'Susan_Walvius',\n",
       " 'Kim_Weeks',\n",
       " 'Darryl_Stingley',\n",
       " 'Colin_Prescot',\n",
       " 'Felix_Mantilla',\n",
       " 'Frank_Van_Ecke',\n",
       " 'Mike_Sherman',\n",
       " 'David_Myers',\n",
       " 'Guillermo_Ruiz_Polanco',\n",
       " 'Ken_Loach',\n",
       " 'Robert_Flodquist',\n",
       " 'Ben_Lee',\n",
       " 'Aung_San_Suu_Kyi',\n",
       " 'Keith_Brown',\n",
       " 'Thomas_Gottschalk',\n",
       " 'Shae-Lynn_Bourne',\n",
       " 'Bob_Sulkin',\n",
       " 'Chakib_Khelil',\n",
       " 'Robert_Wagner',\n",
       " 'William_Cocksedge',\n",
       " 'Giselle_Estefania_Tavarelli',\n",
       " 'Lorne_Michaels',\n",
       " 'Ricky_Barnes',\n",
       " 'Laura_Ziskin',\n",
       " 'Ray_Evernham',\n",
       " 'Pedro_Velasquez',\n",
       " 'Marion_Fahnestock',\n",
       " 'Jane_Pauley',\n",
       " 'Bernardo_Segura',\n",
       " 'Padraig_Harrington',\n",
       " 'Luke_Smith',\n",
       " 'Jeffrey_Pfeffer',\n",
       " 'Brandon_Boyd',\n",
       " 'Jim_Jeffords',\n",
       " 'Claudio_Abbado',\n",
       " 'Chen_Liang_Yu',\n",
       " 'Maura_Tierney',\n",
       " 'John_Danforth',\n",
       " 'Cheryl_Hines',\n",
       " 'Timothy_Goebel',\n",
       " 'Frank_Sinatra',\n",
       " 'Marissa_Jaret_Winokur',\n",
       " 'Masamori_Tokuyama',\n",
       " 'Bill_Rainer',\n",
       " 'Ken_Watanabe',\n",
       " 'Kimora_Lee',\n",
       " 'Sanjay_Gupta',\n",
       " 'Gary_Locke',\n",
       " 'Sinead_OConnor',\n",
       " 'James_W_Kennedy',\n",
       " 'Kurt_Suzuki',\n",
       " 'Frederick_Madden',\n",
       " 'Priscilla_Owen',\n",
       " 'Malcolm_Jamal_Warner',\n",
       " 'Naoto_Kan',\n",
       " 'Sue_Guevara',\n",
       " 'John_Sweeney',\n",
       " 'Brian_Cashman',\n",
       " 'Marco_Pantani',\n",
       " 'Theodore_Tweed_Roosevelt',\n",
       " 'Se_Hyuk_Joo',\n",
       " 'Ian_Moran',\n",
       " 'Michael_Olowokandi',\n",
       " 'James_Brosnahan',\n",
       " 'Kevin_Nealon',\n",
       " 'Miguel_Estrada',\n",
       " 'Alison_Krauss',\n",
       " 'Bill_Callahan',\n",
       " 'Allison_Searing',\n",
       " 'Torri_Edwards',\n",
       " 'Bryan_Thomas',\n",
       " 'Kathy_Baker',\n",
       " 'Martha_Stewart',\n",
       " 'William_Hurt',\n",
       " 'Serge_Tchuruk',\n",
       " 'Michael_Brandon',\n",
       " 'Adam_Sandler',\n",
       " 'Sam_Gerald',\n",
       " 'Laura_Linney',\n",
       " 'Aitor_Gonzalez',\n",
       " 'Hamzah_Haz',\n",
       " 'James_Young',\n",
       " 'Misty_Dawn_Clymer',\n",
       " 'Bronson_Arroyo',\n",
       " 'Curtis_Rodriguez',\n",
       " 'Paul_Burrell',\n",
       " 'Jennie_Garth',\n",
       " 'Irina_Yatchenko',\n",
       " 'Don_Matthews',\n",
       " 'David_Eldon',\n",
       " 'Christian_Wulff',\n",
       " 'Paul_Byrd',\n",
       " 'Derek_Bond',\n",
       " 'Wolfgang_Clement',\n",
       " 'Carol_Williams',\n",
       " 'John_Goold',\n",
       " 'Mesut_Yilmaz',\n",
       " 'John_Dallager',\n",
       " 'Cecile_de_France',\n",
       " 'Adrian_Fernandez',\n",
       " 'Alan_Greer',\n",
       " 'Mike_Babcock',\n",
       " 'Casy_Preslar',\n",
       " 'Giuseppe_Gibilisco',\n",
       " 'Wesley_Clark',\n",
       " 'Tom_Osborne',\n",
       " 'Robert_Mueller',\n",
       " 'Keith_Urban',\n",
       " 'Steve_Cox',\n",
       " 'Carly_Fiorina',\n",
       " 'Irv_Nathan',\n",
       " 'Goh_Kun',\n",
       " 'Imam_Samudra',\n",
       " 'Leon_Barmore',\n",
       " 'Martha_Beatriz_Roque',\n",
       " 'Lope_Mendoza',\n",
       " 'Roberto_Benigni',\n",
       " 'Vincent_Sombrotto',\n",
       " 'Scott_Rudin',\n",
       " 'Jesus_Cardenal',\n",
       " 'Kimi_Raikkonen',\n",
       " 'Warren_Beatty',\n",
       " 'Sherri_Coale',\n",
       " 'Matt_Roney',\n",
       " 'Michelle_Branch',\n",
       " 'Teresa_Graves',\n",
       " 'Michel_Temer',\n",
       " 'Benazir_Bhutto',\n",
       " 'Uday_Hussein',\n",
       " 'Brad_Russ',\n",
       " 'Gracia_Burnham',\n",
       " 'James_Watt',\n",
       " 'Reggie_Sanders',\n",
       " 'Orrin_Hatch',\n",
       " 'Howard_Schultz',\n",
       " 'Piers_Sellers',\n",
       " 'Doug_Christie',\n",
       " 'Larry_Harris',\n",
       " 'Lin_Yung_Hsi',\n",
       " 'Abdullah_al-Attiyah',\n",
       " 'Vladimir_Ustinov',\n",
       " 'Dustan_Mohr',\n",
       " 'Farouk_Kaddoumi',\n",
       " 'Shigeru_Ishiba',\n",
       " 'Peter_Sejna',\n",
       " 'Robert_Tyrrell',\n",
       " 'Beyonce_Knowles',\n",
       " 'Brandon_Inge',\n",
       " 'Ignatius_Wang',\n",
       " 'Patsy_Kensit',\n",
       " 'Keith_Lockhart',\n",
       " 'Spencer_Abraham',\n",
       " 'Ronde_Barber',\n",
       " 'Antonio_Palocci',\n",
       " 'Desmon_Farmer',\n",
       " 'Dieter_Holzer',\n",
       " 'Stacey_Yamaguchi',\n",
       " 'Viara_Vike-Freiberga',\n",
       " 'Lokendra_Bahadur_Chand',\n",
       " 'Ivan_Shvedoff',\n",
       " 'Dana_Vollmer',\n",
       " 'Bob_Curtis',\n",
       " 'John_Burnett',\n",
       " 'Thomas_Cloyd',\n",
       " 'Katrin_Cartlidge',\n",
       " 'Horst_Koehler',\n",
       " 'Julian_Battle',\n",
       " 'Billy_Crawford',\n",
       " 'Carolyn_Kuhl',\n",
       " 'Marc_Gold',\n",
       " 'Jerry_Pauley',\n",
       " 'Li_Ka-shing',\n",
       " 'Vaclav_Havel',\n",
       " 'Jorge_Quiroga',\n",
       " 'Manijeh_Hekmat',\n",
       " 'Graciano_Rocchigiani',\n",
       " 'Marquis_Estill',\n",
       " 'Clive_Lloyd',\n",
       " 'Sandra_Bullock',\n",
       " 'Buck_Rodgers',\n",
       " 'Natalie_Stewart',\n",
       " 'Adisai_Bodharamik',\n",
       " 'Jim_Flaherty',\n",
       " 'Erik_Morales',\n",
       " 'Cynthia_Rowley',\n",
       " 'Stanislas_Wawrinka',\n",
       " 'Brendan_Fraser',\n",
       " 'Carson_Daly',\n",
       " 'Natalia_Dmitrieva',\n",
       " 'Sarah_Jessica_Parker',\n",
       " 'Fidel_Castro',\n",
       " 'Terry_Semel',\n",
       " 'Trista_Rehn',\n",
       " 'Carolina_Kluft',\n",
       " 'Katie_Couric',\n",
       " 'Carlos_Beltran',\n",
       " 'Peter_Shaw',\n",
       " 'Shinzo_Abe',\n",
       " 'Candace_Sutton',\n",
       " 'Dave_Matthews',\n",
       " 'Bob_Cantrell',\n",
       " 'Danielle_Spencer',\n",
       " 'Kiki_Vandeweghe',\n",
       " 'Scott_Hubbard',\n",
       " 'Michael_Frayn',\n",
       " 'James_Robertson_Jr',\n",
       " 'Kieran_Prendergast',\n",
       " 'Patti_Balgojevich',\n",
       " 'Scott_Wittman',\n",
       " 'Richard_Lennon',\n",
       " 'Nestor_Gonzalez',\n",
       " 'Tom_McClintock',\n",
       " 'Iain_Anderson',\n",
       " 'Michael_Powell',\n",
       " 'Lela_Rochon',\n",
       " 'Shane_Warne',\n",
       " 'Lauren_Killian',\n",
       " 'Perry_Gibbs',\n",
       " 'Curt_Weldon',\n",
       " 'Tony_Elias',\n",
       " 'Bill_McBride',\n",
       " 'Nick_Markakis',\n",
       " 'Mikhail_Kalashnikov',\n",
       " 'Jonathan_Karsh',\n",
       " 'Igor_Trunov',\n",
       " 'Renee_Zellweger',\n",
       " 'Joaquin_Phoenix',\n",
       " 'Magda_Kertasz',\n",
       " 'Mel_Brooks',\n",
       " 'Todd_MacCulloch',\n",
       " 'Keiko_Sofia_Fujimori',\n",
       " 'Jeffrey_Archer',\n",
       " 'Richard_Dreyfuss',\n",
       " 'Frank_Shea',\n",
       " 'Dan_Monson',\n",
       " 'Ruth_Stubbs',\n",
       " 'James_McMahon',\n",
       " 'Lennox_Lewis',\n",
       " 'Tian_Liang',\n",
       " 'Timbul_Silaen',\n",
       " 'BJ_Habibie',\n",
       " 'George_Gregan',\n",
       " 'Tom_Curley',\n",
       " 'Justin_Timberlake',\n",
       " 'Frank_Wycheck',\n",
       " 'Nicola_Bono',\n",
       " 'Nikolay_Davydenko',\n",
       " 'John_Petty',\n",
       " 'Paul_Hogan',\n",
       " 'Paul_Cerjan',\n",
       " 'Ali_Ahmeti',\n",
       " 'Rachel_Griffiths',\n",
       " 'Nate_Blackwell',\n",
       " 'Yves_Brodeur',\n",
       " 'Yory_Boy_Campas',\n",
       " 'Patricia_Clarkson',\n",
       " 'Jan_Petersen',\n",
       " 'Tatiana_Shchegoleva',\n",
       " 'George_Foreman',\n",
       " 'Peter_Chan',\n",
       " 'Baburam_Bhattari',\n",
       " 'Stacy_Dragila',\n",
       " 'George_Tenet',\n",
       " 'Sam_Mendes',\n",
       " 'Humberto_Espinoza',\n",
       " 'Alexa_Vega',\n",
       " 'Vaclav_Klaus',\n",
       " 'Judy_Vassar',\n",
       " 'Aram_Adler',\n",
       " 'Andy_Hebb',\n",
       " 'Sheldon_Silver',\n",
       " 'Ilham_Aliev',\n",
       " 'Maria_Soledad_Alvear_Valenzuela',\n",
       " 'Luis_Horna',\n",
       " 'Tom_Daschle',\n",
       " 'Kevin_Keegan',\n",
       " 'Taia_Balk',\n",
       " 'Kwon_Young-gil',\n",
       " 'Tab_Baldwin',\n",
       " 'Ramon_Cardenas',\n",
       " 'Mary_Tyler_Moore',\n",
       " 'Audrey_Sauret',\n",
       " 'Bill_Frist',\n",
       " 'Scott_Wallach',\n",
       " 'Larry_Wilmore',\n",
       " 'Rosa_Haywa_de_Condori',\n",
       " 'Clara_Harris',\n",
       " 'Alvaro_Uribe',\n",
       " 'Mark_Philippoussis',\n",
       " 'Boris_Berezovsky',\n",
       " 'Petro_Symonenko',\n",
       " 'Tammy_Lynn_Michaels',\n",
       " 'Angelina_Jolie',\n",
       " 'Juanes',\n",
       " 'BB_King',\n",
       " 'Wayne_Newton',\n",
       " 'JT_Snow',\n",
       " 'Stefano_Accorsi',\n",
       " 'Francis_Mer',\n",
       " 'William_Donaldson',\n",
       " 'Monica_Gabrielle',\n",
       " 'Woody_Allen',\n",
       " 'Will_Ofenheusle',\n",
       " 'Jim_Beattie',\n",
       " 'Mitchell_Potter',\n",
       " 'Stacey_Jones',\n",
       " 'Debra_Messing',\n",
       " 'Dan_Boyle',\n",
       " 'Lisa_Murkowski',\n",
       " 'Damarius_Bilbo',\n",
       " 'Steny_Hoyer',\n",
       " 'Luciano_Pavarotti',\n",
       " 'Jason_Petty',\n",
       " 'Brian_Pavlich',\n",
       " 'Ismail_Cem',\n",
       " 'Ana_Claudia_Talancon',\n",
       " 'Charlene_Barshefsky',\n",
       " 'Mitchell_Swartz',\n",
       " 'Steve_Cutler',\n",
       " 'Venus_Williams',\n",
       " 'Kwame_Kilpatrick',\n",
       " 'Eddie_Sutton',\n",
       " 'Enrique_Oliu',\n",
       " 'Tom_Sizemore',\n",
       " 'Vincent_Brooks',\n",
       " 'Ricky_Quick',\n",
       " 'Slobodan_Milosevic',\n",
       " 'Mary_Landrieu',\n",
       " 'Christopher_Reeve',\n",
       " 'Daryl_Hannah',\n",
       " 'Adel_Al-Jubeir',\n",
       " 'Mario_Austin',\n",
       " 'Pak_Gil_Yon',\n",
       " 'Kimberly_Stewart',\n",
       " 'Robert_Hanssen',\n",
       " 'Mary_Matalin',\n",
       " 'Mary_Hill',\n",
       " 'Cesar_Gaviria',\n",
       " 'Michael_Kostelnik',\n",
       " 'Romain_Duris',\n",
       " 'Mohammad_Khatami',\n",
       " 'Peter_Caruana',\n",
       " 'Lynn_Abraham',\n",
       " 'Kelly_Osbourne',\n",
       " 'Condoleezza_Rice',\n",
       " 'Julia_Tymoshenko',\n",
       " 'Eminem',\n",
       " 'Tom_Watson',\n",
       " 'Thomas_Klestil',\n",
       " 'Caio_Blat',\n",
       " 'Bob_Ferguson',\n",
       " 'Randy_Jackson',\n",
       " 'Eunice_Barber',\n",
       " 'Ozzy_Osbourne',\n",
       " 'William_Jackson',\n",
       " 'Osama_Al_Baz',\n",
       " 'Gus_Van_Sant',\n",
       " 'Bryce_Carmine',\n",
       " 'Edward_Johnson',\n",
       " 'Stephen_Cooper',\n",
       " 'Richard_Harris',\n",
       " 'Sadie_Frost',\n",
       " 'Rod_Jong-il',\n",
       " 'Marco_Irizarry',\n",
       " 'Bulent_Ecevit',\n",
       " 'Rick_Dinse',\n",
       " 'Hubie_Brown',\n",
       " 'Javier_Camara',\n",
       " 'Kurt_Warner',\n",
       " 'Rick_Pitino',\n",
       " 'Toni_Jennings',\n",
       " 'Branko_Crvenkovski',\n",
       " 'Chip_Ganassi',\n",
       " 'Jason_Mewes',\n",
       " 'Zalmay_Khalilzad',\n",
       " 'Ken_Macha',\n",
       " 'Ali_Adbul_Karim_Madani',\n",
       " 'Raul_Chacon',\n",
       " 'Luis_Guzman',\n",
       " 'Rena_Sofer',\n",
       " 'Vince_Dooley',\n",
       " 'Janet_Ecker',\n",
       " 'Carlos_Fasciolo',\n",
       " 'Massoud_Barzani',\n",
       " 'Candice_Bergen',\n",
       " 'Ralph_Firman',\n",
       " 'Rick_Santorum',\n",
       " 'Javier_Bardem',\n",
       " 'Luis_Rosario_Huertas',\n",
       " 'Sandra_Milo',\n",
       " 'Julius_Barnes',\n",
       " 'Taha_Yassin_Ramadan',\n",
       " 'El_Hadji_Diouf',\n",
       " 'Felix_Doh',\n",
       " 'John_Stallworth',\n",
       " 'Francis_Ford_Coppola',\n",
       " 'Peter_Hillary',\n",
       " 'Kristen_Breitweiser',\n",
       " 'Gregor_Gysi',\n",
       " 'Eglis_Yaima_Cruz',\n",
       " 'Sandra_Shamas',\n",
       " 'Helen_Clark',\n",
       " 'Ted_Christopher',\n",
       " 'Takeo_Hiranuma',\n",
       " 'Marcos_Milinkovic',\n",
       " 'Jim_Carrey',\n",
       " 'Steve-O',\n",
       " 'Edward_James_Olmos',\n",
       " 'John_McCain',\n",
       " 'Gustavo_Noboa',\n",
       " 'Ms_Dynamite',\n",
       " 'Chuck_Yeager',\n",
       " 'Steve_Backley',\n",
       " 'Jacqueline_Edwards',\n",
       " 'Lena_Olin',\n",
       " 'Kaspar_Villiger',\n",
       " 'Edwina_Currie',\n",
       " 'Mark_Hogan',\n",
       " 'Ferenc_Madl',\n",
       " 'Jake_Brace',\n",
       " 'Gavyn_Davies',\n",
       " 'Janine_Pietsch',\n",
       " 'Dagmar_Dunlevy',\n",
       " 'Zico',\n",
       " 'Tatiana_Panova',\n",
       " 'James_Spalding',\n",
       " 'Asif_Hanif',\n",
       " 'Larry_Ellison',\n",
       " 'Marc-Andre_Fleury',\n",
       " 'Andrew_Weissmann',\n",
       " 'Jose_Vicente_Rangel',\n",
       " 'Marc_Bulger',\n",
       " 'Grant_Hackett',\n",
       " 'Victor_Kraatz',\n",
       " 'David_Chase',\n",
       " 'Javier_Weber',\n",
       " 'Marina_Hands',\n",
       " 'Rogelio_Ramos',\n",
       " 'Khalid_Qazi',\n",
       " 'Andres_Manuel_Lopez_Obrador',\n",
       " 'Assad_Ahmadi',\n",
       " 'Bill_Maher',\n",
       " 'Hitoshi_Oshitani',\n",
       " 'Queen_Silvia',\n",
       " 'Julio_Cesar_Franco',\n",
       " 'Richard_Naughton',\n",
       " 'Paddy_Long',\n",
       " 'Mikhail_Youzhny',\n",
       " 'David_Carradine',\n",
       " 'Peter_Struck',\n",
       " 'Terry_Lynn_Barton',\n",
       " 'Gerald_Fitch',\n",
       " 'Cemil_Cicek',\n",
       " 'Frank_Lautenberg',\n",
       " 'Georgia_Giddings',\n",
       " 'Glafcos_Clerides',\n",
       " 'Filippo_Inzaghi',\n",
       " 'Edina_Batar',\n",
       " 'Malak_Habbak',\n",
       " 'David_McCallum',\n",
       " 'Garry_Alejano',\n",
       " 'Peter_Medgyessy',\n",
       " 'JJ_Redick',\n",
       " 'Phil_Gramm',\n",
       " 'Vanessa_Redgrave',\n",
       " 'Mike_Johanns',\n",
       " 'Mark_Salter',\n",
       " 'Jimmy_Carter',\n",
       " 'Wei_Wu',\n",
       " 'John_Blaney',\n",
       " 'Dave_Lewis',\n",
       " 'Hiroki_Gomi',\n",
       " 'Richard_Myers',\n",
       " 'MC_Hammer',\n",
       " 'John_Leguizamo',\n",
       " 'Sonja_Kesselschlager',\n",
       " 'Jessica_Capshaw',\n",
       " 'Robert_De_Niro',\n",
       " 'Anja_Paerson',\n",
       " 'Andres_Pastrana',\n",
       " 'Vytas_Danelius',\n",
       " 'Alexander_Rumyantsev',\n",
       " 'Scott_Blum',\n",
       " 'Hermes_Gamonal',\n",
       " 'Karen_Mok',\n",
       " 'Stan_Heath',\n",
       " 'Greg_Kinnear',\n",
       " 'Ascencion_Barajas',\n",
       " 'John_Barnett',\n",
       " 'Esteban_Cordoba-Velazquez',\n",
       " 'Judy_Locy',\n",
       " 'Randy_Travis',\n",
       " 'Rahul_Dravid',\n",
       " 'Joseph_Hoy',\n",
       " 'Roger_Lyons',\n",
       " 'Daryl_Smith',\n",
       " 'Oleksandr_Moroz',\n",
       " 'Barbara_Walters',\n",
       " 'William_Murabito',\n",
       " 'Ozzie_Smith',\n",
       " 'Matt_Braker',\n",
       " 'Steven_Seagal',\n",
       " 'Kevin_Sorbo',\n",
       " 'Suk_Chung_Hong',\n",
       " 'James_Hoffa',\n",
       " 'Lucio_Angulo',\n",
       " 'Larry_Lindsey',\n",
       " 'Donald_Keyser',\n",
       " 'Adrian_Nastase',\n",
       " 'Jane_Leeves',\n",
       " 'Katie_Holmes',\n",
       " 'Lois_Smart',\n",
       " 'Rosie_Perez',\n",
       " 'Vince_Vaughan',\n",
       " 'Ricardo_Lopez_Murphy',\n",
       " 'Daniel_Barenboim',\n",
       " 'Rachel_Kempson',\n",
       " 'Liliana_Cavani',\n",
       " 'Mark_Redman',\n",
       " 'LeRoy_Millette_Jr',\n",
       " 'Celso_Amorim',\n",
       " '.DS_Store',\n",
       " 'Jacky_Cheung',\n",
       " 'Bo_Ryan',\n",
       " 'Agnes_Bruckner',\n",
       " 'Ali_Abbas',\n",
       " 'Dirk_Kempthorne',\n",
       " 'Jennifer_Pena',\n",
       " 'Stellan_Skarsgard',\n",
       " 'Jung_Bong',\n",
       " 'Charlie_Deane',\n",
       " 'Eliza_Dushku',\n",
       " 'Bilal_Erdogan',\n",
       " 'Etta_James',\n",
       " 'Vecdi_Gonul',\n",
       " 'Larry_Hagman',\n",
       " 'Gil_de_Ferran',\n",
       " 'Ken_Dorsey',\n",
       " 'Matt_Welsh',\n",
       " 'Claudine_Farrell',\n",
       " 'Jen_Bice',\n",
       " 'Alexis_Dennisoff',\n",
       " 'Karen_Allen',\n",
       " 'E_Clay_Shaw',\n",
       " 'Jose_Lina',\n",
       " 'Fujio_Mitarai',\n",
       " 'Leon_Silver',\n",
       " 'Emmanuel_Milingo',\n",
       " 'David_Dorfman',\n",
       " 'Henning_Scherf',\n",
       " 'Lloyd_Mudiwa',\n",
       " 'Barbara_Brezigar',\n",
       " 'Robert_Fico',\n",
       " 'Steve_Wariner',\n",
       " 'Emily_Mortimer',\n",
       " 'Don_Boudria',\n",
       " 'Diane_Ladd',\n",
       " 'Piotr_Anderszewski',\n",
       " 'Robin_Cook',\n",
       " 'Eduardo_Duhalde',\n",
       " 'Kurt_Thomas',\n",
       " 'Hong_Myung',\n",
       " 'Tonga',\n",
       " 'Caroline_Kennedy',\n",
       " 'Allan_Kemakeza',\n",
       " 'Elisabeth_Schumacher',\n",
       " 'Sanjay_Chawla',\n",
       " 'Douglas_Faneuil',\n",
       " 'Picabo_Street',\n",
       " 'Dan_LaCoutre',\n",
       " 'Andy_Madikians',\n",
       " 'Namuddu_Florence',\n",
       " 'Nathalie_Dechy',\n",
       " 'Chen_Tsai-chin',\n",
       " 'Pascal_Lamy',\n",
       " 'Leni_Bjorklund',\n",
       " 'Herbert_Haupt',\n",
       " 'Anna_Chicherova',\n",
       " 'Bernadette_Peters',\n",
       " 'Sue_Slavec',\n",
       " 'Lloyd_Ward',\n",
       " 'Lim_Dong-won',\n",
       " 'Chris_Claiborne',\n",
       " 'Catherine_Woodard',\n",
       " 'Ian_Campbell',\n",
       " 'Dave_McGinnis',\n",
       " 'Tom_Christerson',\n",
       " 'Rosemarie_Stack',\n",
       " 'Tommy_Franks',\n",
       " 'Rosalyn_Carter',\n",
       " 'Kostya_Tszyu',\n",
       " 'Masatoshi_Koshiba',\n",
       " 'Hannah_Stockbauer',\n",
       " 'Stephanie_Moore',\n",
       " 'Saparmurat_Niyazov',\n",
       " 'Suh_Young-hoon',\n",
       " 'Nanni_Moretti',\n",
       " 'Omar_Vizquel',\n",
       " 'Marie_Haghal',\n",
       " 'Tom_Harkin',\n",
       " 'Jenna_Elfman',\n",
       " 'Joseph_LePore',\n",
       " 'Astrid_Betancourt',\n",
       " 'Jennifer_Murray',\n",
       " 'Shaukat_Aziz',\n",
       " 'Lachlan_Murdoch',\n",
       " 'Nora_Ephron',\n",
       " 'Jamie_Carey',\n",
       " 'Antonio_Catania',\n",
       " 'Francois_Botha',\n",
       " 'Jim_Freudenberg',\n",
       " 'Mohammad_Mustapha_Miro',\n",
       " 'Marcelo_Bielsa',\n",
       " 'Miguel_Angel_Rodriguez',\n",
       " 'Teri_Files',\n",
       " 'Andrew_Shutley',\n",
       " 'Ted_Nolan',\n",
       " 'Nikki_McKibbin',\n",
       " 'Debbie_Reynolds',\n",
       " 'Billy_Graham',\n",
       " 'Kirsten_Dunst',\n",
       " 'Bruce_Springsteen',\n",
       " 'Maurice_Cheeks',\n",
       " 'Jose_Miguel_Aleman',\n",
       " 'Dave_Odom',\n",
       " 'Joe_Finley',\n",
       " 'Eddy_Hartenstein',\n",
       " 'Bruce_Weber',\n",
       " 'Adolfo_Aguilar_Zinser',\n",
       " 'Farouk_al-Sharaa',\n",
       " 'Peter_Harrison',\n",
       " 'Mayumi_Moriyama',\n",
       " 'Sally_Clark',\n",
       " 'Matthew_McConaughey',\n",
       " 'Gideon_Yago',\n",
       " 'Natalya_Sazanovich',\n",
       " 'Elizabeth_Regan',\n",
       " 'Abel_Aguilar',\n",
       " 'Sultan_Qaboos',\n",
       " 'Lucia_Kenny_Anthony',\n",
       " 'Raza_Rabbani',\n",
       " 'Bill_Guerin',\n",
       " 'Francis_George',\n",
       " 'Mario_Kreutzberger',\n",
       " 'Hana_Makhmalbaf',\n",
       " 'Robert_Beck',\n",
       " 'Chris_Moore',\n",
       " 'Yolanda_King',\n",
       " 'William_Macy',\n",
       " 'Harriet_Lessy',\n",
       " 'Kathryn_Morris',\n",
       " 'Lucrecia_Orozco',\n",
       " 'Dave_Ragone',\n",
       " 'Melanie_Griffith',\n",
       " 'Joe_Glover',\n",
       " 'Thomas_OBrien',\n",
       " 'Mike_Martz',\n",
       " 'Buddy_Ryan',\n",
       " 'Dennis_Archer',\n",
       " 'Marat_Safin',\n",
       " 'Teresa_Williams',\n",
       " ...]"
      ]
     },
     "execution_count": 18,
     "metadata": {},
     "output_type": "execute_result"
    }
   ],
   "source": [
    "os.listdir('lfw')"
   ]
  },
  {
   "cell_type": "code",
   "execution_count": 19,
   "id": "7b02a35a",
   "metadata": {},
   "outputs": [],
   "source": [
    "for directory in os.listdir('lfw'):\n",
    "    if directory == '.DS_Store':\n",
    "        continue\n",
    "    for file in os.listdir(os.path.join('lfw', directory)):\n",
    "        EX_PATH = os.path.join('lfw', directory, file)\n",
    "        NEW_PATH = os.path.join(NEG_PATH, file)\n",
    "        os.replace(EX_PATH, NEW_PATH)"
   ]
  },
  {
   "cell_type": "markdown",
   "id": "a3d4b3fa",
   "metadata": {},
   "source": [
    "# Collect OpenCV Data"
   ]
  },
  {
   "cell_type": "code",
   "execution_count": 22,
   "id": "1a59b727",
   "metadata": {},
   "outputs": [],
   "source": [
    "import uuid"
   ]
  },
  {
   "cell_type": "code",
   "execution_count": 28,
   "id": "b82c7592",
   "metadata": {},
   "outputs": [
    {
     "data": {
      "text/plain": [
       "UUID('2806fe14-9025-11ee-9025-000000000001')"
      ]
     },
     "execution_count": 28,
     "metadata": {},
     "output_type": "execute_result"
    }
   ],
   "source": [
    "uuid.uuid1(1)"
   ]
  },
  {
   "cell_type": "code",
   "execution_count": 15,
   "id": "856e3f35",
   "metadata": {},
   "outputs": [
    {
     "ename": "KeyboardInterrupt",
     "evalue": "",
     "output_type": "error",
     "traceback": [
      "\u001b[0;31m---------------------------------------------------------------------------\u001b[0m",
      "\u001b[0;31mKeyboardInterrupt\u001b[0m                         Traceback (most recent call last)",
      "Cell \u001b[0;32mIn[15], line 3\u001b[0m\n\u001b[1;32m      1\u001b[0m cap \u001b[38;5;241m=\u001b[39m cv2\u001b[38;5;241m.\u001b[39mVideoCapture(\u001b[38;5;241m0\u001b[39m)\n\u001b[1;32m      2\u001b[0m \u001b[38;5;28;01mwhile\u001b[39;00m cap\u001b[38;5;241m.\u001b[39misOpened(): \n\u001b[0;32m----> 3\u001b[0m     ret, frame \u001b[38;5;241m=\u001b[39m \u001b[43mcap\u001b[49m\u001b[38;5;241;43m.\u001b[39;49m\u001b[43mread\u001b[49m\u001b[43m(\u001b[49m\u001b[43m)\u001b[49m\n\u001b[1;32m      5\u001b[0m     \u001b[38;5;66;03m# Cut down frame to 250x250px\u001b[39;00m\n\u001b[1;32m      6\u001b[0m     frame \u001b[38;5;241m=\u001b[39m frame[\u001b[38;5;241m120\u001b[39m:\u001b[38;5;241m120\u001b[39m\u001b[38;5;241m+\u001b[39m\u001b[38;5;241m250\u001b[39m,\u001b[38;5;241m200\u001b[39m:\u001b[38;5;241m200\u001b[39m\u001b[38;5;241m+\u001b[39m\u001b[38;5;241m250\u001b[39m, :]\n",
      "\u001b[0;31mKeyboardInterrupt\u001b[0m: "
     ]
    }
   ],
   "source": [
    "cap = cv2.VideoCapture(0)\n",
    "while cap.isOpened(): \n",
    "    ret, frame = cap.read()\n",
    "   \n",
    "    # Cut down frame to 250x250px\n",
    "    frame = frame[120:120+250,200:200+250, :]\n",
    "    \n",
    "    # Collect anchors \n",
    "    if cv2.waitKey(1) & 0XFF == ord('a'):\n",
    "        # Create the unique file path \n",
    "        imgname = os.path.join(ANC_PATH, '{}.jpg'.format(uuid.uuid1()))\n",
    "        # Write out anchor image\n",
    "        cv2.imwrite(imgname, frame)\n",
    "    \n",
    "    # Collect positives\n",
    "    if cv2.waitKey(1) & 0XFF == ord('p'):\n",
    "        # Create the unique file path \n",
    "        imgname = os.path.join(POS_PATH, '{}.jpg'.format(uuid.uuid1()))\n",
    "        # Write out positive image\n",
    "        cv2.imwrite(imgname, frame)\n",
    "    \n",
    "    # Show image back to screen\n",
    "    cv2.imshow('Image Collection', frame)\n",
    "    \n",
    "    # Breaking gracefully\n",
    "    if cv2.waitKey(1) & 0XFF == ord('q'):\n",
    "        break\n",
    "        \n",
    "# Release the webcam\n",
    "cap.release()\n",
    "# Close the image show frame\n",
    "cv2.destroyAllWindows()"
   ]
  },
  {
   "cell_type": "code",
   "execution_count": 10,
   "id": "4433bce7",
   "metadata": {},
   "outputs": [],
   "source": [
    "def data_aug(img):\n",
    "    data = []\n",
    "    for i in range(9):\n",
    "        img = tf.image.stateless_random_brightness(img, max_delta=0.02, seed=(1,2))\n",
    "        img = tf.image.stateless_random_contrast(img, lower=0.6, upper=1, seed=(1,3))\n",
    "        # img = tf.image.stateless_random_crop(img, size=(20,20,3), seed=(1,2))\n",
    "        img = tf.image.stateless_random_flip_left_right(img, seed=(np.random.randint(100),np.random.randint(100)))\n",
    "        img = tf.image.stateless_random_jpeg_quality(img, min_jpeg_quality=90, max_jpeg_quality=100, seed=(np.random.randint(100),np.random.randint(100)))\n",
    "        img = tf.image.stateless_random_saturation(img, lower=0.9,upper=1, seed=(np.random.randint(100),np.random.randint(100)))\n",
    "            \n",
    "        data.append(img)\n",
    "    \n",
    "    return data"
   ]
  },
  {
   "cell_type": "code",
   "execution_count": 11,
   "id": "c00b28e1",
   "metadata": {},
   "outputs": [
    {
     "ename": "InvalidArgumentError",
     "evalue": "{{function_node __wrapped__StatelessRandomUniformIntV2_device_/job:localhost/replica:0/task:0/device:GPU:0}} minval must be 0-D, got shape [2] [Op:StatelessRandomUniformIntV2] name: ",
     "output_type": "error",
     "traceback": [
      "\u001b[0;31m---------------------------------------------------------------------------\u001b[0m",
      "\u001b[0;31mInvalidArgumentError\u001b[0m                      Traceback (most recent call last)",
      "Cell \u001b[0;32mIn[11], line 4\u001b[0m\n\u001b[1;32m      2\u001b[0m img_path \u001b[38;5;241m=\u001b[39m os\u001b[38;5;241m.\u001b[39mpath\u001b[38;5;241m.\u001b[39mjoin(POS_PATH, file_name)\n\u001b[1;32m      3\u001b[0m img \u001b[38;5;241m=\u001b[39m cv2\u001b[38;5;241m.\u001b[39mimread(img_path)\n\u001b[0;32m----> 4\u001b[0m augmented_images \u001b[38;5;241m=\u001b[39m \u001b[43mdata_aug\u001b[49m\u001b[43m(\u001b[49m\u001b[43mimg\u001b[49m\u001b[43m)\u001b[49m \n\u001b[1;32m      6\u001b[0m \u001b[38;5;28;01mfor\u001b[39;00m image \u001b[38;5;129;01min\u001b[39;00m augmented_images:\n\u001b[1;32m      7\u001b[0m     cv2\u001b[38;5;241m.\u001b[39mimwrite(os\u001b[38;5;241m.\u001b[39mpath\u001b[38;5;241m.\u001b[39mjoin(POS_PATH, \u001b[38;5;124m'\u001b[39m\u001b[38;5;132;01m{}\u001b[39;00m\u001b[38;5;124m.jpg\u001b[39m\u001b[38;5;124m'\u001b[39m\u001b[38;5;241m.\u001b[39mformat(uuid\u001b[38;5;241m.\u001b[39muuid1())), image\u001b[38;5;241m.\u001b[39mnumpy())\n",
      "Cell \u001b[0;32mIn[10], line 8\u001b[0m, in \u001b[0;36mdata_aug\u001b[0;34m(img)\u001b[0m\n\u001b[1;32m      6\u001b[0m \u001b[38;5;66;03m# img = tf.image.stateless_random_crop(img, size=(20,20,3), seed=(1,2))\u001b[39;00m\n\u001b[1;32m      7\u001b[0m img \u001b[38;5;241m=\u001b[39m tf\u001b[38;5;241m.\u001b[39mimage\u001b[38;5;241m.\u001b[39mstateless_random_flip_left_right(img, seed\u001b[38;5;241m=\u001b[39m(np\u001b[38;5;241m.\u001b[39mrandom\u001b[38;5;241m.\u001b[39mrandint(\u001b[38;5;241m100\u001b[39m),np\u001b[38;5;241m.\u001b[39mrandom\u001b[38;5;241m.\u001b[39mrandint(\u001b[38;5;241m100\u001b[39m)))\n\u001b[0;32m----> 8\u001b[0m img \u001b[38;5;241m=\u001b[39m \u001b[43mtf\u001b[49m\u001b[38;5;241;43m.\u001b[39;49m\u001b[43mimage\u001b[49m\u001b[38;5;241;43m.\u001b[39;49m\u001b[43mstateless_random_jpeg_quality\u001b[49m\u001b[43m(\u001b[49m\u001b[43mimg\u001b[49m\u001b[43m,\u001b[49m\u001b[43m \u001b[49m\u001b[43mmin_jpeg_quality\u001b[49m\u001b[38;5;241;43m=\u001b[39;49m\u001b[38;5;241;43m90\u001b[39;49m\u001b[43m,\u001b[49m\u001b[43m \u001b[49m\u001b[43mmax_jpeg_quality\u001b[49m\u001b[38;5;241;43m=\u001b[39;49m\u001b[38;5;241;43m100\u001b[39;49m\u001b[43m,\u001b[49m\u001b[43m \u001b[49m\u001b[43mseed\u001b[49m\u001b[38;5;241;43m=\u001b[39;49m\u001b[43m(\u001b[49m\u001b[43mnp\u001b[49m\u001b[38;5;241;43m.\u001b[39;49m\u001b[43mrandom\u001b[49m\u001b[38;5;241;43m.\u001b[39;49m\u001b[43mrandint\u001b[49m\u001b[43m(\u001b[49m\u001b[38;5;241;43m100\u001b[39;49m\u001b[43m)\u001b[49m\u001b[43m,\u001b[49m\u001b[43mnp\u001b[49m\u001b[38;5;241;43m.\u001b[39;49m\u001b[43mrandom\u001b[49m\u001b[38;5;241;43m.\u001b[39;49m\u001b[43mrandint\u001b[49m\u001b[43m(\u001b[49m\u001b[38;5;241;43m100\u001b[39;49m\u001b[43m)\u001b[49m\u001b[43m)\u001b[49m\u001b[43m)\u001b[49m\n\u001b[1;32m      9\u001b[0m img \u001b[38;5;241m=\u001b[39m tf\u001b[38;5;241m.\u001b[39mimage\u001b[38;5;241m.\u001b[39mstateless_random_saturation(img, lower\u001b[38;5;241m=\u001b[39m\u001b[38;5;241m0.9\u001b[39m,upper\u001b[38;5;241m=\u001b[39m\u001b[38;5;241m1\u001b[39m, seed\u001b[38;5;241m=\u001b[39m(np\u001b[38;5;241m.\u001b[39mrandom\u001b[38;5;241m.\u001b[39mrandint(\u001b[38;5;241m100\u001b[39m),np\u001b[38;5;241m.\u001b[39mrandom\u001b[38;5;241m.\u001b[39mrandint(\u001b[38;5;241m100\u001b[39m)))\n\u001b[1;32m     11\u001b[0m data\u001b[38;5;241m.\u001b[39mappend(img)\n",
      "File \u001b[0;32m~/anaconda3/lib/python3.10/site-packages/tensorflow/python/util/traceback_utils.py:153\u001b[0m, in \u001b[0;36mfilter_traceback.<locals>.error_handler\u001b[0;34m(*args, **kwargs)\u001b[0m\n\u001b[1;32m    151\u001b[0m \u001b[38;5;28;01mexcept\u001b[39;00m \u001b[38;5;167;01mException\u001b[39;00m \u001b[38;5;28;01mas\u001b[39;00m e:\n\u001b[1;32m    152\u001b[0m   filtered_tb \u001b[38;5;241m=\u001b[39m _process_traceback_frames(e\u001b[38;5;241m.\u001b[39m__traceback__)\n\u001b[0;32m--> 153\u001b[0m   \u001b[38;5;28;01mraise\u001b[39;00m e\u001b[38;5;241m.\u001b[39mwith_traceback(filtered_tb) \u001b[38;5;28;01mfrom\u001b[39;00m \u001b[38;5;28mNone\u001b[39m\n\u001b[1;32m    154\u001b[0m \u001b[38;5;28;01mfinally\u001b[39;00m:\n\u001b[1;32m    155\u001b[0m   \u001b[38;5;28;01mdel\u001b[39;00m filtered_tb\n",
      "File \u001b[0;32m~/anaconda3/lib/python3.10/site-packages/tensorflow/python/framework/ops.py:5883\u001b[0m, in \u001b[0;36mraise_from_not_ok_status\u001b[0;34m(e, name)\u001b[0m\n\u001b[1;32m   5881\u001b[0m \u001b[38;5;28;01mdef\u001b[39;00m \u001b[38;5;21mraise_from_not_ok_status\u001b[39m(e, name) \u001b[38;5;241m-\u001b[39m\u001b[38;5;241m>\u001b[39m NoReturn:\n\u001b[1;32m   5882\u001b[0m   e\u001b[38;5;241m.\u001b[39mmessage \u001b[38;5;241m+\u001b[39m\u001b[38;5;241m=\u001b[39m (\u001b[38;5;124m\"\u001b[39m\u001b[38;5;124m name: \u001b[39m\u001b[38;5;124m\"\u001b[39m \u001b[38;5;241m+\u001b[39m \u001b[38;5;28mstr\u001b[39m(name \u001b[38;5;28;01mif\u001b[39;00m name \u001b[38;5;129;01mis\u001b[39;00m \u001b[38;5;129;01mnot\u001b[39;00m \u001b[38;5;28;01mNone\u001b[39;00m \u001b[38;5;28;01melse\u001b[39;00m \u001b[38;5;124m\"\u001b[39m\u001b[38;5;124m\"\u001b[39m))\n\u001b[0;32m-> 5883\u001b[0m   \u001b[38;5;28;01mraise\u001b[39;00m core\u001b[38;5;241m.\u001b[39m_status_to_exception(e) \u001b[38;5;28;01mfrom\u001b[39;00m \u001b[38;5;28mNone\u001b[39m\n",
      "\u001b[0;31mInvalidArgumentError\u001b[0m: {{function_node __wrapped__StatelessRandomUniformIntV2_device_/job:localhost/replica:0/task:0/device:GPU:0}} minval must be 0-D, got shape [2] [Op:StatelessRandomUniformIntV2] name: "
     ]
    }
   ],
   "source": [
    "for file_name in os.listdir(os.path.join(POS_PATH)):\n",
    "    img_path = os.path.join(POS_PATH, file_name)\n",
    "    img = cv2.imread(img_path)\n",
    "    augmented_images = data_aug(img) \n",
    "    \n",
    "    for image in augmented_images:\n",
    "        cv2.imwrite(os.path.join(POS_PATH, '{}.jpg'.format(uuid.uuid1())), image.numpy())"
   ]
  },
  {
   "cell_type": "markdown",
   "id": "12b2cd31",
   "metadata": {},
   "source": [
    "# Load and Preprocess Images"
   ]
  },
  {
   "cell_type": "code",
   "execution_count": 7,
   "id": "f4f21145",
   "metadata": {},
   "outputs": [
    {
     "name": "stderr",
     "output_type": "stream",
     "text": [
      "2024-01-11 12:03:37.234049: I metal_plugin/src/device/metal_device.cc:1154] Metal device set to: Apple M2\n",
      "2024-01-11 12:03:37.234125: I metal_plugin/src/device/metal_device.cc:296] systemMemory: 16.00 GB\n",
      "2024-01-11 12:03:37.234145: I metal_plugin/src/device/metal_device.cc:313] maxCacheSize: 5.33 GB\n",
      "2024-01-11 12:03:37.234259: I tensorflow/core/common_runtime/pluggable_device/pluggable_device_factory.cc:306] Could not identify NUMA node of platform GPU ID 0, defaulting to 0. Your kernel may not have been built with NUMA support.\n",
      "2024-01-11 12:03:37.234329: I tensorflow/core/common_runtime/pluggable_device/pluggable_device_factory.cc:272] Created TensorFlow device (/job:localhost/replica:0/task:0/device:GPU:0 with 0 MB memory) -> physical PluggableDevice (device: 0, name: METAL, pci bus id: <undefined>)\n"
     ]
    }
   ],
   "source": [
    "anchor = tf.data.Dataset.list_files(ANC_PATH+'/*.jpg').take(3000)\n",
    "positive = tf.data.Dataset.list_files(POS_PATH+'/*.jpg').take(3000)\n",
    "negative = tf.data.Dataset.list_files(NEG_PATH+'/*.jpg').take(3000)"
   ]
  },
  {
   "cell_type": "code",
   "execution_count": 8,
   "id": "5e11c4ac",
   "metadata": {},
   "outputs": [],
   "source": [
    "dir_test = anchor.as_numpy_iterator()"
   ]
  },
  {
   "cell_type": "code",
   "execution_count": 9,
   "id": "2359cea0",
   "metadata": {},
   "outputs": [
    {
     "name": "stdout",
     "output_type": "stream",
     "text": [
      "b'data/anchor/9c00cdb4-aef1-11ee-8095-6e405208cd1e.jpg'\n"
     ]
    }
   ],
   "source": [
    "print(dir_test.next())"
   ]
  },
  {
   "cell_type": "code",
   "execution_count": 10,
   "id": "a51f971c",
   "metadata": {},
   "outputs": [],
   "source": [
    "def preprocess(file_path):\n",
    "    \n",
    "    # Read in image from file path\n",
    "    byte_img = tf.io.read_file(file_path)\n",
    "    # Load in the image \n",
    "    img = tf.io.decode_jpeg(byte_img)\n",
    "    \n",
    "    # Preprocessing steps - resizing the image to be 100x100x3\n",
    "    img = tf.image.resize(img, (100,100))\n",
    "    # Scale image to be between 0 and 1 \n",
    "    img = img / 255.0\n",
    "    \n",
    "    # Return image\n",
    "    return img"
   ]
  },
  {
   "cell_type": "code",
   "execution_count": 11,
   "id": "48165649",
   "metadata": {},
   "outputs": [],
   "source": [
    "img = preprocess('data/anchor/9c00cdb4-aef1-11ee-8095-6e405208cd1e.jpg')"
   ]
  },
  {
   "cell_type": "code",
   "execution_count": 12,
   "id": "21f3e993",
   "metadata": {},
   "outputs": [
    {
     "data": {
      "text/plain": [
       "0.99019605"
      ]
     },
     "execution_count": 12,
     "metadata": {},
     "output_type": "execute_result"
    }
   ],
   "source": [
    "img.numpy().max() "
   ]
  },
  {
   "cell_type": "code",
   "execution_count": 13,
   "id": "fcb7e4a7",
   "metadata": {},
   "outputs": [
    {
     "data": {
      "text/plain": [
       "<matplotlib.image.AxesImage at 0x17a687100>"
      ]
     },
     "execution_count": 13,
     "metadata": {},
     "output_type": "execute_result"
    },
    {
     "data": {
      "image/png": "[encoded data removed]",
      "text/plain": [
       "<Figure size 640x480 with 1 Axes>"
      ]
     },
     "metadata": {},
     "output_type": "display_data"
    }
   ],
   "source": [
    "plt.imshow(img)"
   ]
  },
  {
   "cell_type": "markdown",
   "id": "7eaf992b",
   "metadata": {},
   "source": [
    "### Create Labelled Dataset"
   ]
  },
  {
   "cell_type": "code",
   "execution_count": 14,
   "id": "0428607b",
   "metadata": {},
   "outputs": [],
   "source": [
    "positives = tf.data.Dataset.zip((anchor, positive, tf.data.Dataset.from_tensor_slices(tf.ones(len(anchor)))))\n",
    "negatives = tf.data.Dataset.zip((anchor, negative, tf.data.Dataset.from_tensor_slices(tf.zeros(len(anchor)))))\n",
    "data = positives.concatenate(negatives)"
   ]
  },
  {
   "cell_type": "code",
   "execution_count": 18,
   "id": "63e6c287",
   "metadata": {},
   "outputs": [
    {
     "data": {
      "text/plain": [
       "50"
      ]
     },
     "execution_count": 18,
     "metadata": {},
     "output_type": "execute_result"
    }
   ],
   "source": [
    "len(data)"
   ]
  },
  {
   "cell_type": "code",
   "execution_count": 19,
   "id": "4a47154e",
   "metadata": {},
   "outputs": [
    {
     "data": {
      "text/plain": [
       "<_ConcatenateDataset element_spec=(TensorSpec(shape=(), dtype=tf.string, name=None), TensorSpec(shape=(), dtype=tf.string, name=None), TensorSpec(shape=(), dtype=tf.float32, name=None))>"
      ]
     },
     "execution_count": 19,
     "metadata": {},
     "output_type": "execute_result"
    }
   ],
   "source": [
    "data"
   ]
  },
  {
   "cell_type": "code",
   "execution_count": 20,
   "id": "bb4c4238",
   "metadata": {},
   "outputs": [],
   "source": [
    "samples = data.as_numpy_iterator()"
   ]
  },
  {
   "cell_type": "code",
   "execution_count": 21,
   "id": "efa707a3",
   "metadata": {},
   "outputs": [],
   "source": [
    "exampple = samples.next()"
   ]
  },
  {
   "cell_type": "code",
   "execution_count": 22,
   "id": "d75cce52",
   "metadata": {},
   "outputs": [
    {
     "data": {
      "text/plain": [
       "(b'data/anchor/9d233ea2-aef1-11ee-8095-6e405208cd1e.jpg',\n",
       " b'data/positive/361d4bac-b04b-11ee-b498-6e405208cd1e.jpg',\n",
       " 1.0)"
      ]
     },
     "execution_count": 22,
     "metadata": {},
     "output_type": "execute_result"
    }
   ],
   "source": [
    "exampple"
   ]
  },
  {
   "cell_type": "markdown",
   "id": "8bc8eab8",
   "metadata": {},
   "source": [
    "### Build Train and Test Partition"
   ]
  },
  {
   "cell_type": "code",
   "execution_count": 23,
   "id": "e423664e",
   "metadata": {},
   "outputs": [],
   "source": [
    "def preprocess_twin(input_img, validation_img, label):\n",
    "    return(preprocess(input_img), preprocess(validation_img), label)"
   ]
  },
  {
   "cell_type": "code",
   "execution_count": 24,
   "id": "69893f13",
   "metadata": {},
   "outputs": [],
   "source": [
    "res = preprocess_twin(*exampple)"
   ]
  },
  {
   "cell_type": "code",
   "execution_count": 25,
   "id": "701b2f65",
   "metadata": {},
   "outputs": [
    {
     "data": {
      "text/plain": [
       "<matplotlib.image.AxesImage at 0x17c969ab0>"
      ]
     },
     "execution_count": 25,
     "metadata": {},
     "output_type": "execute_result"
    },
    {
     "data": {
      "image/png": "[encoded data removed]",
      "text/plain": [
       "<Figure size 640x480 with 1 Axes>"
      ]
     },
     "metadata": {},
     "output_type": "display_data"
    }
   ],
   "source": [
    "plt.imshow(res[1])"
   ]
  },
  {
   "cell_type": "code",
   "execution_count": 26,
   "id": "b83e4e26",
   "metadata": {},
   "outputs": [
    {
     "data": {
      "text/plain": [
       "1.0"
      ]
     },
     "execution_count": 26,
     "metadata": {},
     "output_type": "execute_result"
    }
   ],
   "source": [
    "res[2]"
   ]
  },
  {
   "cell_type": "code",
   "execution_count": 27,
   "id": "71b741b2",
   "metadata": {},
   "outputs": [],
   "source": [
    "data = data.map(preprocess_twin)\n",
    "data = data.cache()\n",
    "data = data.shuffle(buffer_size=1000)"
   ]
  },
  {
   "cell_type": "code",
   "execution_count": 28,
   "id": "6d7135fc",
   "metadata": {},
   "outputs": [],
   "source": [
    "train_data = data.take(round(len(data)*.7))\n",
    "train_data = train_data.batch(16)\n",
    "train_data = train_data.prefetch(8)"
   ]
  },
  {
   "cell_type": "code",
   "execution_count": 29,
   "id": "928d68ff",
   "metadata": {},
   "outputs": [],
   "source": [
    "test_data = data.skip(round(len(data)*.7))\n",
    "test_data = test_data.take(round(len(data)*.3))\n",
    "test_data = test_data.batch(16)\n",
    "test_data = test_data.prefetch(8)"
   ]
  },
  {
   "cell_type": "markdown",
   "id": "bbc273ac",
   "metadata": {},
   "source": [
    "# Build Model"
   ]
  },
  {
   "cell_type": "markdown",
   "id": "26ce0531",
   "metadata": {},
   "source": [
    "## Embedding Layer"
   ]
  },
  {
   "cell_type": "code",
   "execution_count": 30,
   "id": "664eeada",
   "metadata": {},
   "outputs": [],
   "source": [
    "def make_embedding(): \n",
    "    inp = Input(shape=(100,100,3), name='input_image')\n",
    "    \n",
    "    # First block\n",
    "    c1 = Conv2D(64, (10,10), activation='relu')(inp)\n",
    "    m1 = MaxPooling2D(64, (2,2), padding='same')(c1)\n",
    "    \n",
    "    # Second block\n",
    "    c2 = Conv2D(128, (7,7), activation='relu')(m1)\n",
    "    m2 = MaxPooling2D(64, (2,2), padding='same')(c2)\n",
    "    \n",
    "    # Third block \n",
    "    c3 = Conv2D(128, (4,4), activation='relu')(m2)\n",
    "    m3 = MaxPooling2D(64, (2,2), padding='same')(c3)\n",
    "    \n",
    "    # Final embedding block\n",
    "    c4 = Conv2D(256, (4,4), activation='relu')(m3)\n",
    "    f1 = Flatten()(c4)\n",
    "    d1 = Dense(4096, activation='sigmoid')(f1)\n",
    "    \n",
    "    \n",
    "    return Model(inputs=[inp], outputs=[d1], name='embedding')"
   ]
  },
  {
   "cell_type": "code",
   "execution_count": 31,
   "id": "c1ba35ef",
   "metadata": {},
   "outputs": [],
   "source": [
    "embedding = make_embedding()"
   ]
  },
  {
   "cell_type": "code",
   "execution_count": 32,
   "id": "800ab894",
   "metadata": {},
   "outputs": [
    {
     "name": "stdout",
     "output_type": "stream",
     "text": [
      "Model: \"embedding\"\n",
      "_________________________________________________________________\n",
      " Layer (type)                Output Shape              Param #   \n",
      "=================================================================\n",
      " input_image (InputLayer)    [(None, 100, 100, 3)]     0         \n",
      "                                                                 \n",
      " conv2d (Conv2D)             (None, 91, 91, 64)        19264     \n",
      "                                                                 \n",
      " max_pooling2d (MaxPooling2  (None, 46, 46, 64)        0         \n",
      " D)                                                              \n",
      "                                                                 \n",
      " conv2d_1 (Conv2D)           (None, 40, 40, 128)       401536    \n",
      "                                                                 \n",
      " max_pooling2d_1 (MaxPoolin  (None, 20, 20, 128)       0         \n",
      " g2D)                                                            \n",
      "                                                                 \n",
      " conv2d_2 (Conv2D)           (None, 17, 17, 128)       262272    \n",
      "                                                                 \n",
      " max_pooling2d_2 (MaxPoolin  (None, 9, 9, 128)         0         \n",
      " g2D)                                                            \n",
      "                                                                 \n",
      " conv2d_3 (Conv2D)           (None, 6, 6, 256)         524544    \n",
      "                                                                 \n",
      " flatten (Flatten)           (None, 9216)              0         \n",
      "                                                                 \n",
      " dense (Dense)               (None, 4096)              37752832  \n",
      "                                                                 \n",
      "=================================================================\n",
      "Total params: 38960448 (148.62 MB)\n",
      "Trainable params: 38960448 (148.62 MB)\n",
      "Non-trainable params: 0 (0.00 Byte)\n",
      "_________________________________________________________________\n"
     ]
    }
   ],
   "source": [
    "embedding.summary()"
   ]
  },
  {
   "cell_type": "markdown",
   "id": "78dcad62",
   "metadata": {},
   "source": [
    "## Distance Layer"
   ]
  },
  {
   "cell_type": "code",
   "execution_count": 33,
   "id": "b99f6c7d",
   "metadata": {},
   "outputs": [],
   "source": [
    "# Siamese L1 Distance class\n",
    "class L1Dist(Layer):\n",
    "    \n",
    "    # Init method - inheritance\n",
    "    def __init__(self, **kwargs):\n",
    "        super().__init__()\n",
    "       \n",
    "    # Magic happens here - similarity calculation\n",
    "    def call(self, input_embedding, validation_embedding):\n",
    "        return tf.math.abs(input_embedding - validation_embedding)"
   ]
  },
  {
   "cell_type": "code",
   "execution_count": 34,
   "id": "e57a9851",
   "metadata": {},
   "outputs": [],
   "source": [
    "l1 = L1Dist()"
   ]
  },
  {
   "cell_type": "markdown",
   "id": "3ec1ff38",
   "metadata": {},
   "source": [
    "## Siamese Model"
   ]
  },
  {
   "cell_type": "code",
   "execution_count": 35,
   "id": "dfa66767",
   "metadata": {},
   "outputs": [],
   "source": [
    "def make_siamese_model(): \n",
    "    \n",
    "    # Anchor image input in the network\n",
    "    input_image = Input(name='input_img', shape=(100,100,3))\n",
    "    \n",
    "    # Validation image in the network \n",
    "    validation_image = Input(name='validation_img', shape=(100,100,3))\n",
    "    \n",
    "    # Combine siamese distance components\n",
    "    siamese_layer = L1Dist()\n",
    "    siamese_layer._name = 'distance'\n",
    "    distances = siamese_layer(embedding(input_image), embedding(validation_image))\n",
    "    \n",
    "    # Classification layer \n",
    "    classifier = Dense(1, activation='sigmoid')(distances)\n",
    "    \n",
    "    return Model(inputs=[input_image, validation_image], outputs=classifier, name='SiameseNetwork')"
   ]
  },
  {
   "cell_type": "code",
   "execution_count": 36,
   "id": "1495455f",
   "metadata": {},
   "outputs": [],
   "source": [
    "siamese_model = make_siamese_model()"
   ]
  },
  {
   "cell_type": "code",
   "execution_count": 37,
   "id": "3a91ea21",
   "metadata": {},
   "outputs": [
    {
     "name": "stdout",
     "output_type": "stream",
     "text": [
      "Model: \"SiameseNetwork\"\n",
      "__________________________________________________________________________________________________\n",
      " Layer (type)                Output Shape                 Param #   Connected to                  \n",
      "==================================================================================================\n",
      " input_img (InputLayer)      [(None, 100, 100, 3)]        0         []                            \n",
      "                                                                                                  \n",
      " validation_img (InputLayer  [(None, 100, 100, 3)]        0         []                            \n",
      " )                                                                                                \n",
      "                                                                                                  \n",
      " embedding (Functional)      (None, 4096)                 3896044   ['input_img[0][0]',           \n",
      "                                                          8          'validation_img[0][0]']      \n",
      "                                                                                                  \n",
      " distance (L1Dist)           (None, 4096)                 0         ['embedding[0][0]',           \n",
      "                                                                     'embedding[1][0]']           \n",
      "                                                                                                  \n",
      " dense_1 (Dense)             (None, 1)                    4097      ['distance[0][0]']            \n",
      "                                                                                                  \n",
      "==================================================================================================\n",
      "Total params: 38964545 (148.64 MB)\n",
      "Trainable params: 38964545 (148.64 MB)\n",
      "Non-trainable params: 0 (0.00 Byte)\n",
      "__________________________________________________________________________________________________\n"
     ]
    }
   ],
   "source": [
    "siamese_model.summary()"
   ]
  },
  {
   "cell_type": "markdown",
   "id": "bde289ea",
   "metadata": {},
   "source": [
    "# Model Training"
   ]
  },
  {
   "cell_type": "code",
   "execution_count": 38,
   "id": "a84dd3d9",
   "metadata": {},
   "outputs": [],
   "source": [
    "# Loss Function\n",
    "binary_cross_loss = tf.losses.BinaryCrossentropy()"
   ]
  },
  {
   "cell_type": "code",
   "execution_count": 39,
   "id": "54e031a1",
   "metadata": {},
   "outputs": [],
   "source": [
    "# Optimizer\n",
    "opt = tf.keras.optimizers.legacy.Adam(1e-4)"
   ]
  },
  {
   "cell_type": "code",
   "execution_count": 40,
   "id": "323cf3fc",
   "metadata": {},
   "outputs": [],
   "source": [
    "# Checkpoints\n",
    "checkpoint_dir = './training_checkpoints'\n",
    "checkpoint_prefix = os.path.join(checkpoint_dir, 'ckpt')\n",
    "checkpoint = tf.train.Checkpoint(opt=opt, siamese_model=siamese_model)"
   ]
  },
  {
   "cell_type": "code",
   "execution_count": 41,
   "id": "94d83836",
   "metadata": {},
   "outputs": [],
   "source": [
    "# Training Step\n",
    "\n",
    "@tf.function\n",
    "def train_step(batch):\n",
    "    \n",
    "    # Record all of our operations \n",
    "    with tf.GradientTape() as tape:     \n",
    "        # Get anchor and positive/negative image\n",
    "        X = batch[:2]\n",
    "        # Get label\n",
    "        y = batch[2]\n",
    "        \n",
    "        # Forward pass\n",
    "        yhat = siamese_model(X, training=True)\n",
    "        # Calculate loss\n",
    "        loss = binary_cross_loss(y, yhat)\n",
    "    print(loss)\n",
    "        \n",
    "    # Calculate gradients\n",
    "    grad = tape.gradient(loss, siamese_model.trainable_variables)\n",
    "    \n",
    "    # Calculate updated weights and apply to siamese model\n",
    "    opt.apply_gradients(zip(grad, siamese_model.trainable_variables))\n",
    "        \n",
    "    # Return loss\n",
    "    return loss"
   ]
  },
  {
   "cell_type": "code",
   "execution_count": 42,
   "id": "e93649e1",
   "metadata": {},
   "outputs": [],
   "source": [
    "from tensorflow.keras.metrics import Precision, Recall"
   ]
  },
  {
   "cell_type": "code",
   "execution_count": 43,
   "id": "899a363b",
   "metadata": {},
   "outputs": [],
   "source": [
    "# Training Loop\n",
    "\n",
    "def train(data, EPOCHS):\n",
    "    # Loop through epochs\n",
    "    for epoch in range(1, EPOCHS+1):\n",
    "        print('\\n Epoch {}/{}'.format(epoch, EPOCHS))\n",
    "        progbar = tf.keras.utils.Progbar(len(data))\n",
    "        \n",
    "        # Creating a metric object \n",
    "        r = Recall()\n",
    "        p = Precision()\n",
    "        \n",
    "        # Loop through each batch\n",
    "        for idx, batch in enumerate(data):\n",
    "            # Run train step here\n",
    "            loss = train_step(batch)\n",
    "            yhat = siamese_model.predict(batch[:2])\n",
    "            r.update_state(batch[2], yhat)\n",
    "            p.update_state(batch[2], yhat) \n",
    "            progbar.update(idx+1)\n",
    "        print(loss.numpy(), r.result().numpy(), p.result().numpy())\n",
    "        \n",
    "        # Save checkpoints\n",
    "        if epoch % 10 == 0: \n",
    "            checkpoint.save(file_prefix=checkpoint_prefix)"
   ]
  },
  {
   "cell_type": "code",
   "execution_count": 44,
   "id": "7e44d86c",
   "metadata": {},
   "outputs": [],
   "source": [
    "EPOCHS = 15"
   ]
  },
  {
   "cell_type": "code",
   "execution_count": 45,
   "id": "65b1d0a3",
   "metadata": {
    "scrolled": true
   },
   "outputs": [
    {
     "name": "stdout",
     "output_type": "stream",
     "text": [
      "\n",
      " Epoch 1/15\n",
      "Tensor(\"binary_crossentropy/weighted_loss/value:0\", shape=(), dtype=float32)\n",
      "Tensor(\"binary_crossentropy/weighted_loss/value:0\", shape=(), dtype=float32)\n"
     ]
    },
    {
     "name": "stderr",
     "output_type": "stream",
     "text": [
      "2024-01-11 12:05:08.152673: I tensorflow/core/grappler/optimizers/custom_graph_optimizer_registry.cc:117] Plugin optimizer for device_type GPU is enabled.\n"
     ]
    },
    {
     "name": "stdout",
     "output_type": "stream",
     "text": [
      "1/1 [==============================] - 0s 76ms/step\n",
      "1/1 [==============================] - 2s 2s/step\n",
      "2/3 [===================>..........] - ETA: 1sTensor(\"binary_crossentropy/weighted_loss/value:0\", shape=(), dtype=float32)\n",
      "1/1 [==============================] - 0s 279ms/step\n",
      "3/3 [==============================] - 5s 1s/step\n",
      "0.66382205 0.5263158 1.0\n",
      "\n",
      " Epoch 2/15\n",
      "1/1 [==============================] - 2s 2s/step\n",
      "1/1 [==============================] - 2s 2s/step\n",
      "1/1 [==============================] - 0s 348ms/step\n",
      "3/3 [==============================] - 4s 1s/step\n",
      "0.49276412 0.13333334 1.0\n",
      "\n",
      " Epoch 3/15\n",
      "1/1 [==============================] - 2s 2s/step\n",
      "1/1 [==============================] - 2s 2s/step\n",
      "1/1 [==============================] - 0s 338ms/step\n",
      "3/3 [==============================] - 4s 1s/step\n",
      "0.52559674 0.3125 1.0\n",
      "\n",
      " Epoch 4/15\n",
      "1/1 [==============================] - 2s 2s/step\n",
      "1/1 [==============================] - 2s 2s/step\n",
      "1/1 [==============================] - 0s 348ms/step\n",
      "3/3 [==============================] - 4s 1s/step\n",
      "0.4004409 0.7222222 1.0\n",
      "\n",
      " Epoch 5/15\n",
      "1/1 [==============================] - 2s 2s/step\n",
      "1/1 [==============================] - 2s 2s/step\n",
      "1/1 [==============================] - 0s 350ms/step\n",
      "3/3 [==============================] - 4s 1s/step\n",
      "0.91244197 0.68421054 1.0\n",
      "\n",
      " Epoch 6/15\n",
      "1/1 [==============================] - 2s 2s/step\n",
      "1/1 [==============================] - 2s 2s/step\n",
      "1/1 [==============================] - 0s 350ms/step\n",
      "3/3 [==============================] - 4s 1s/step\n",
      "0.07916711 0.94736844 1.0\n",
      "\n",
      " Epoch 7/15\n",
      "1/1 [==============================] - 2s 2s/step\n",
      "1/1 [==============================] - 2s 2s/step\n",
      "1/1 [==============================] - 0s 353ms/step\n",
      "3/3 [==============================] - 4s 1s/step\n",
      "0.24680136 0.93333334 0.93333334\n",
      "\n",
      " Epoch 8/15\n",
      "1/1 [==============================] - 2s 2s/step\n",
      "1/1 [==============================] - 2s 2s/step\n",
      "1/1 [==============================] - 0s 350ms/step\n",
      "3/3 [==============================] - 4s 1s/step\n",
      "0.2491068 0.875 1.0\n",
      "\n",
      " Epoch 9/15\n",
      "1/1 [==============================] - 2s 2s/step\n",
      "1/1 [==============================] - 2s 2s/step\n",
      "1/1 [==============================] - 0s 348ms/step\n",
      "3/3 [==============================] - 4s 1s/step\n",
      "0.32253212 0.94736844 0.94736844\n",
      "\n",
      " Epoch 10/15\n",
      "1/1 [==============================] - 2s 2s/step\n",
      "1/1 [==============================] - 2s 2s/step\n",
      "1/1 [==============================] - 0s 358ms/step\n",
      "3/3 [==============================] - 4s 1s/step\n",
      "0.45891994 0.88235295 1.0\n",
      "\n",
      " Epoch 11/15\n",
      "1/1 [==============================] - 2s 2s/step\n",
      "1/1 [==============================] - 2s 2s/step\n",
      "1/1 [==============================] - 0s 348ms/step\n",
      "3/3 [==============================] - 4s 1s/step\n",
      "0.009121908 0.8235294 1.0\n",
      "\n",
      " Epoch 12/15\n",
      "1/1 [==============================] - 2s 2s/step\n",
      "1/1 [==============================] - 2s 2s/step\n",
      "1/1 [==============================] - 0s 352ms/step\n",
      "3/3 [==============================] - 4s 1s/step\n",
      "0.11212079 0.84210527 1.0\n",
      "\n",
      " Epoch 13/15\n",
      "1/1 [==============================] - 2s 2s/step\n",
      "1/1 [==============================] - 2s 2s/step\n",
      "1/1 [==============================] - 0s 351ms/step\n",
      "3/3 [==============================] - 4s 1s/step\n",
      "0.006660157 0.9444444 1.0\n",
      "\n",
      " Epoch 14/15\n",
      "1/1 [==============================] - 2s 2s/step\n",
      "1/1 [==============================] - 2s 2s/step\n",
      "1/1 [==============================] - 0s 358ms/step\n",
      "3/3 [==============================] - 4s 1s/step\n",
      "0.015409393 1.0 1.0\n",
      "\n",
      " Epoch 15/15\n",
      "1/1 [==============================] - 2s 2s/step\n",
      "1/1 [==============================] - 2s 2s/step\n",
      "1/1 [==============================] - 0s 358ms/step\n",
      "3/3 [==============================] - 4s 1s/step\n",
      "0.008016146 0.88235295 1.0\n"
     ]
    }
   ],
   "source": [
    "train(train_data, EPOCHS)"
   ]
  },
  {
   "cell_type": "markdown",
   "id": "ae11dff7",
   "metadata": {},
   "source": [
    "# Evaluate Model"
   ]
  },
  {
   "cell_type": "code",
   "execution_count": 46,
   "id": "a8445f29",
   "metadata": {},
   "outputs": [],
   "source": [
    "test_input, test_val, y_true = test_data.as_numpy_iterator().next()"
   ]
  },
  {
   "cell_type": "code",
   "execution_count": 47,
   "id": "6fc0ac5d",
   "metadata": {
    "scrolled": true
   },
   "outputs": [
    {
     "name": "stdout",
     "output_type": "stream",
     "text": [
      "1/1 [==============================] - 0s 54ms/step\n"
     ]
    },
    {
     "data": {
      "text/plain": [
       "array([[6.8223294e-06],\n",
       "       [1.1013935e-04],\n",
       "       [2.8616190e-04],\n",
       "       [8.0213822e-06],\n",
       "       [9.9896193e-01],\n",
       "       [9.9976903e-01],\n",
       "       [9.4353551e-01],\n",
       "       [1.1259774e-03],\n",
       "       [9.8434466e-01],\n",
       "       [7.6316574e-05],\n",
       "       [1.0526100e-05],\n",
       "       [9.2233407e-01],\n",
       "       [9.9934727e-01],\n",
       "       [1.1998198e-03],\n",
       "       [6.8530548e-01]], dtype=float32)"
      ]
     },
     "execution_count": 47,
     "metadata": {},
     "output_type": "execute_result"
    }
   ],
   "source": [
    "y_hat = siamese_model.predict([test_input, test_val])\n",
    "y_hat"
   ]
  },
  {
   "cell_type": "code",
   "execution_count": 48,
   "id": "39f0d738",
   "metadata": {},
   "outputs": [
    {
     "data": {
      "text/plain": [
       "[0, 0, 0, 0, 1, 1, 1, 0, 1, 0, 0, 1, 1, 0, 1]"
      ]
     },
     "execution_count": 48,
     "metadata": {},
     "output_type": "execute_result"
    }
   ],
   "source": [
    "[1 if prediction > 0.5 else 0 for prediction in y_hat ]"
   ]
  },
  {
   "cell_type": "code",
   "execution_count": 49,
   "id": "b992b916",
   "metadata": {},
   "outputs": [
    {
     "data": {
      "text/plain": [
       "array([0., 0., 0., 0., 1., 1., 1., 0., 1., 0., 0., 1., 1., 0., 1.],\n",
       "      dtype=float32)"
      ]
     },
     "execution_count": 49,
     "metadata": {},
     "output_type": "execute_result"
    }
   ],
   "source": [
    "y_true"
   ]
  },
  {
   "cell_type": "code",
   "execution_count": 50,
   "id": "e4ca25b0",
   "metadata": {},
   "outputs": [
    {
     "data": {
      "text/plain": [
       "1.0"
      ]
     },
     "execution_count": 50,
     "metadata": {},
     "output_type": "execute_result"
    }
   ],
   "source": [
    "m = Recall()\n",
    "\n",
    "m.update_state(y_true, y_hat)\n",
    "\n",
    "m.result().numpy()"
   ]
  },
  {
   "cell_type": "code",
   "execution_count": 56,
   "id": "bf93611c",
   "metadata": {},
   "outputs": [
    {
     "data": {
      "image/png": "[encoded data removed]",
      "text/plain": [
       "<Figure size 1000x800 with 2 Axes>"
      ]
     },
     "metadata": {},
     "output_type": "display_data"
    }
   ],
   "source": [
    "# Set plot size \n",
    "plt.figure(figsize=(10,8))\n",
    "\n",
    "# Set first subplot\n",
    "plt.subplot(1,2,1)\n",
    "plt.imshow(test_input[0])\n",
    "\n",
    "# Set second subplot\n",
    "plt.subplot(1,2,2)\n",
    "plt.imshow(test_val[8])\n",
    "\n",
    "# Renders cleanly\n",
    "plt.show()"
   ]
  },
  {
   "cell_type": "markdown",
   "id": "5fa2c822",
   "metadata": {},
   "source": [
    "# Save Model"
   ]
  },
  {
   "cell_type": "code",
   "execution_count": 57,
   "id": "bf54489d",
   "metadata": {},
   "outputs": [
    {
     "name": "stdout",
     "output_type": "stream",
     "text": [
      "WARNING:tensorflow:Compiled the loaded model, but the compiled metrics have yet to be built. `model.compile_metrics` will be empty until you train or evaluate the model.\n"
     ]
    },
    {
     "name": "stderr",
     "output_type": "stream",
     "text": [
      "/Users/rasswanth/anaconda3/lib/python3.10/site-packages/keras/src/engine/training.py:3103: UserWarning: You are saving your model as an HDF5 file via `model.save()`. This file format is considered legacy. We recommend using instead the native Keras format, e.g. `model.save('my_model.keras')`.\n",
      "  saving_api.save_model(\n"
     ]
    }
   ],
   "source": [
    "siamese_model.save('siamesemodelv3.h5')"
   ]
  },
  {
   "cell_type": "markdown",
   "id": "062d200b",
   "metadata": {},
   "source": [
    "# Realtime Test"
   ]
  },
  {
   "cell_type": "code",
   "execution_count": 58,
   "id": "585b7081",
   "metadata": {},
   "outputs": [
    {
     "name": "stdout",
     "output_type": "stream",
     "text": [
      "WARNING:tensorflow:No training configuration found in the save file, so the model was *not* compiled. Compile it manually.\n"
     ]
    }
   ],
   "source": [
    "model = tf.keras.models.load_model('siamesemodelv3.h5', \n",
    "                                   custom_objects={'L1Dist':L1Dist, 'BinaryCrossentropy':tf.losses.BinaryCrossentropy})"
   ]
  },
  {
   "cell_type": "code",
   "execution_count": 59,
   "id": "d9d051b1",
   "metadata": {},
   "outputs": [
    {
     "name": "stdout",
     "output_type": "stream",
     "text": [
      "Model: \"SiameseNetwork\"\n",
      "__________________________________________________________________________________________________\n",
      " Layer (type)                Output Shape                 Param #   Connected to                  \n",
      "==================================================================================================\n",
      " input_img (InputLayer)      [(None, 100, 100, 3)]        0         []                            \n",
      "                                                                                                  \n",
      " validation_img (InputLayer  [(None, 100, 100, 3)]        0         []                            \n",
      " )                                                                                                \n",
      "                                                                                                  \n",
      " embedding (Functional)      (None, 4096)                 3896044   ['input_img[0][0]',           \n",
      "                                                          8          'validation_img[0][0]']      \n",
      "                                                                                                  \n",
      " l1_dist_2 (L1Dist)          (None, 4096)                 0         ['embedding[0][0]',           \n",
      "                                                                     'embedding[1][0]']           \n",
      "                                                                                                  \n",
      " dense_1 (Dense)             (None, 1)                    4097      ['l1_dist_2[0][0]']           \n",
      "                                                                                                  \n",
      "==================================================================================================\n",
      "Total params: 38964545 (148.64 MB)\n",
      "Trainable params: 38964545 (148.64 MB)\n",
      "Non-trainable params: 0 (0.00 Byte)\n",
      "__________________________________________________________________________________________________\n"
     ]
    }
   ],
   "source": [
    "model.summary()"
   ]
  },
  {
   "cell_type": "code",
   "execution_count": 159,
   "id": "a61dbb35",
   "metadata": {},
   "outputs": [],
   "source": [
    "def verify(model, detection_threshold, verification_threshold):\n",
    "    # Build results array\n",
    "    results = []\n",
    "    for image in os.listdir(os.path.join('application_data', 'verification_images')):\n",
    "        input_img = preprocess(os.path.join('application_data', 'input_image', 'input_image.jpg'))\n",
    "        validation_img = preprocess(os.path.join('application_data', 'verification_images', image))\n",
    "        \n",
    "        # Make Predictions \n",
    "        result = model.predict(list(np.expand_dims([input_img, validation_img], axis=1)))\n",
    "        results.append(result)\n",
    "    \n",
    "    # Detection Threshold: Metric above which a prediciton is considered positive \n",
    "    detection = np.sum(np.array(results) > detection_threshold)\n",
    "    \n",
    "    # Verification Threshold: Proportion of positive predictions / total positive samples \n",
    "    verification = detection / len(os.listdir(os.path.join('application_data', 'verification_images'))) \n",
    "    verified = verification > verification_threshold\n",
    "    \n",
    "    return results, verified"
   ]
  },
  {
   "cell_type": "code",
   "execution_count": 161,
   "id": "4271b5c2",
   "metadata": {},
   "outputs": [
    {
     "name": "stdout",
     "output_type": "stream",
     "text": [
      "1/1 [==============================] - 0s 14ms/step\n",
      "1/1 [==============================] - 0s 9ms/step\n",
      "1/1 [==============================] - 0s 8ms/step\n",
      "1/1 [==============================] - 0s 8ms/step\n",
      "1/1 [==============================] - 0s 8ms/step\n",
      "1/1 [==============================] - 0s 8ms/step\n",
      "1/1 [==============================] - 0s 8ms/step\n"
     ]
    },
    {
     "data": {
      "text/plain": [
       "([array([[3.9513016e-06]], dtype=float32),\n",
       "  array([[2.242177e-05]], dtype=float32),\n",
       "  array([[2.5392208e-06]], dtype=float32),\n",
       "  array([[2.6393948e-06]], dtype=float32),\n",
       "  array([[4.8507104e-06]], dtype=float32),\n",
       "  array([[1.6374239e-05]], dtype=float32),\n",
       "  array([[4.0576193e-05]], dtype=float32)],\n",
       " False)"
      ]
     },
     "execution_count": 161,
     "metadata": {},
     "output_type": "execute_result"
    }
   ],
   "source": [
    "verify(model, 0.5, 0.5)"
   ]
  },
  {
   "cell_type": "code",
   "execution_count": null,
   "id": "22dff5d6",
   "metadata": {},
   "outputs": [],
   "source": []
  }
 ],
 "metadata": {
  "kernelspec": {
   "display_name": "Python 3 (ipykernel)",
   "language": "python",
   "name": "python3"
  },
  "language_info": {
   "codemirror_mode": {
    "name": "ipython",
    "version": 3
   },
   "file_extension": ".py",
   "mimetype": "text/x-python",
   "name": "python",
   "nbconvert_exporter": "python",
   "pygments_lexer": "ipython3",
   "version": "3.10.9"
  }
 },
 "nbformat": 4,
 "nbformat_minor": 5
}
